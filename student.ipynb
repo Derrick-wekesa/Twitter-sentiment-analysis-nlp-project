{
 "cells": [
  {
   "attachments": {},
   "cell_type": "markdown",
   "metadata": {},
   "source": [
    "# Twitter Sentiment Analysis "
   ]
  },
  {
   "attachments": {},
   "cell_type": "markdown",
   "metadata": {},
   "source": [
    "## Overview"
   ]
  },
  {
   "attachments": {},
   "cell_type": "markdown",
   "metadata": {},
   "source": [
    "In the modern digital era, social media platforms like Twitter have emerged as influential channels for obtaining immediate customer feedback and viewpoints. It is crucial for businesses to comprehend the sentiment conveyed by customers regarding particular brands and products. This understanding allows companies to make well-informed choices, improve customer contentment, and uphold a favorable brand image.\n",
    "\n",
    "The objective of this project is to create a sentiment analysis model designed specifically for evaluating Twitter data associated with Google, Apple, and various other products."
   ]
  },
  {
   "attachments": {},
   "cell_type": "markdown",
   "metadata": {},
   "source": [
    "## Problem Statement"
   ]
  },
  {
   "attachments": {},
   "cell_type": "markdown",
   "metadata": {},
   "source": [
    "As a consulting firm, Twitter has entrusted us with the responsibility of constructing a model capable of assessing the sentiment expressed in a Tweet by analyzing its content. This model should accurately classify Twitter sentiments regarding Apple and Google products into categories of positivity, negativity, or neutrality. The primary objective is to extract valuable insights from public sentiment, enabling businesses to make well-informed decisions in shaping their strategic approaches and enhancing overall customer satisfaction."
   ]
  },
  {
   "attachments": {},
   "cell_type": "markdown",
   "metadata": {},
   "source": [
    "## Data Understanding"
   ]
  },
  {
   "attachments": {},
   "cell_type": "markdown",
   "metadata": {},
   "source": [
    "In this project, I made use of a dataset sourced from CrowdFlower through Data.world, containing around 9,000 tweet sentiments regarding Apple and Google products. The dataset encompasses various columns, including tweet_text, emotion_in_tweet_is_directed_at, and is_there_an_emotion_directed_at_a_brand_or_product.\n",
    "My primary goal is to create a sentiment analysis model capable of effectively categorizing tweets into positive, negative, or neutral sentiment categories.\n",
    "#### Objectives for the project:\n",
    "\n",
    "1. To develop a binary classifier that can classify tweets into positive or negative sentiment categories. This will serve as a proof of concept and provide a foundation for further analysis. The classifier will be a Logistic regression model and the benchmark accuracy will be 85%.\n",
    "2. To expand to a multiclass classifier, thereby incorporating the neutral tweets to create a multiclass classifier that can accurately classify tweets as positive, negative, or neutral. This will provide a more comprehensive sentiment analysis of the tweets. The classifier will be a XGBoost model and MultinomialNB the benchmark accuracy will be 70%. \n",
    "3. To compare sentiment between Apple and Google products by analyzing the sentiment distribution of tweets mentioning Apple,  Google, and other products."
   ]
  },
  {
   "attachments": {},
   "cell_type": "markdown",
   "metadata": {},
   "source": [
    "## Data Preparation"
   ]
  },
  {
   "attachments": {},
   "cell_type": "markdown",
   "metadata": {},
   "source": [
    "To prepare the data, I performed various preprocessing steps. \n",
    "\n",
    "These included; removing duplicates, handling missing values by filling them with \"none\" for the emotion_in_tweet_is_directed_at column, and dropping the row with a missing tweet_text. We also employed tokenization, lowercase conversion, stopword removal, and lemmatization to refine the text data."
   ]
  },
  {
   "attachments": {},
   "cell_type": "markdown",
   "metadata": {},
   "source": [
    "### **Modelling**"
   ]
  },
  {
   "attachments": {},
   "cell_type": "markdown",
   "metadata": {},
   "source": [
    "The packages/libraries utilized for data preparation and analysis included NLTK, sklearn, and pandas. \n",
    "\n",
    "* NLTK was used for tokenization, stopword removal, and lemmatization. \n",
    "* Sklearn's CountVectorizer  was employed for vectorization. \n",
    "* Pandas was used for data manipulation and handling missing values.\n",
    "\n",
    "For modeling, I employed logistic regression as the binary classifier to classify tweets into positive or negative sentiment categories. As a benchmark, I aimed for an accuracy of 70%. \n",
    "\n",
    "In addition, I expanded the model to a multiclass classifier to include the neutral sentiment category."
   ]
  },
  {
   "attachments": {},
   "cell_type": "markdown",
   "metadata": {},
   "source": [
    "### **Model Evaluation**\n",
    "\n",
    "To evaluate the performance of the final model, I employed accuracy. This metric provided insight into the model's ability to correctly classify instances and predict positive and negative sentiment.\n",
    "\n",
    "Accuracy is a commonly used metric for evaluating sentiment analysis models because it provides a straightforward measure of the overall performance. In sentiment analysis, the primary goal is to classify a given text or document into positive, negative, or neutral sentiment categories accurately.\n",
    "Accuracy, in this context, represents the proportion of correctly classified instances compared to the total number of instances. It gives a clear indication of how well a sentiment analysis model is able to predict sentiment labels correctly across the entire dataset.\n",
    "\n",
    "In conclusion, the sentiment analysis model developed using logistic regression demonstrated satisfactory performance in classifying tweet sentiments. The pre-processing steps and modeling choices contributed to accurate predictions and meaningful insights. However, limitations such as missing values and data quality issues should be considered when interpreting the results. Recommendations include further refining the model and expanding the dataset for improved sentiment analysis accuracy"
   ]
  },
  {
   "cell_type": "code",
   "execution_count": 1,
   "metadata": {},
   "outputs": [
    {
     "name": "stderr",
     "output_type": "stream",
     "text": [
      "[nltk_data] Downloading package punkt to C:\\Users\\Derrick\n",
      "[nltk_data]     Masungo\\AppData\\Roaming\\nltk_data...\n",
      "[nltk_data]   Unzipping tokenizers\\punkt.zip.\n",
      "[nltk_data] Downloading package stopwords to C:\\Users\\Derrick\n",
      "[nltk_data]     Masungo\\AppData\\Roaming\\nltk_data...\n",
      "[nltk_data]   Package stopwords is already up-to-date!\n",
      "[nltk_data] Downloading package wordnet to C:\\Users\\Derrick\n",
      "[nltk_data]     Masungo\\AppData\\Roaming\\nltk_data...\n"
     ]
    },
    {
     "name": "stdout",
     "output_type": "stream",
     "text": [
      "successfully imported libraries....\n"
     ]
    }
   ],
   "source": [
    "import re\n",
    "import pandas as pd\n",
    "import numpy as np\n",
    "import seaborn as sns\n",
    "import matplotlib.pyplot as plt\n",
    "%matplotlib inline\n",
    "import string\n",
    "import warnings\n",
    "warnings.filterwarnings(action='ignore', category=FutureWarning)\n",
    "\n",
    "import nltk\n",
    "nltk.download('punkt')\n",
    "nltk.download('stopwords')\n",
    "nltk.download('wordnet')\n",
    "from nltk.stem import WordNetLemmatizer\n",
    "from sklearn.preprocessing import LabelEncoder\n",
    "from nltk.tokenize import word_tokenize, sent_tokenize\n",
    "from nltk.corpus import stopwords\n",
    "from sklearn.feature_extraction.text import CountVectorizer, TfidfVectorizer\n",
    "from nltk import FreqDist\n",
    "from sklearn.model_selection import train_test_split\n",
    "from sklearn.linear_model import LogisticRegression\n",
    "from sklearn.metrics import accuracy_score, classification_report, confusion_matrix\n",
    "from sklearn import metrics\n",
    "from sklearn.naive_bayes import MultinomialNB\n",
    "import xgboost as xgb\n",
    "from imblearn.over_sampling import RandomOverSampler\n",
    "from imblearn.under_sampling import RandomUnderSampler\n",
    "import xgboost as xgb\n",
    "from sklearn.metrics import accuracy_score\n",
    "\n",
    "print('successfully imported libraries....')"
   ]
  },
  {
   "attachments": {},
   "cell_type": "markdown",
   "metadata": {},
   "source": [
    "## Loading the Dataset"
   ]
  },
  {
   "cell_type": "code",
   "execution_count": 5,
   "metadata": {},
   "outputs": [
    {
     "data": {
      "text/html": [
       "<div>\n",
       "<style scoped>\n",
       "    .dataframe tbody tr th:only-of-type {\n",
       "        vertical-align: middle;\n",
       "    }\n",
       "\n",
       "    .dataframe tbody tr th {\n",
       "        vertical-align: top;\n",
       "    }\n",
       "\n",
       "    .dataframe thead th {\n",
       "        text-align: right;\n",
       "    }\n",
       "</style>\n",
       "<table border=\"1\" class=\"dataframe\">\n",
       "  <thead>\n",
       "    <tr style=\"text-align: right;\">\n",
       "      <th></th>\n",
       "      <th>tweet_text</th>\n",
       "      <th>emotion_in_tweet_is_directed_at</th>\n",
       "      <th>is_there_an_emotion_directed_at_a_brand_or_product</th>\n",
       "    </tr>\n",
       "  </thead>\n",
       "  <tbody>\n",
       "    <tr>\n",
       "      <th>0</th>\n",
       "      <td>.@wesley83 I have a 3G iPhone. After 3 hrs twe...</td>\n",
       "      <td>iPhone</td>\n",
       "      <td>Negative emotion</td>\n",
       "    </tr>\n",
       "    <tr>\n",
       "      <th>1</th>\n",
       "      <td>@jessedee Know about @fludapp ? Awesome iPad/i...</td>\n",
       "      <td>iPad or iPhone App</td>\n",
       "      <td>Positive emotion</td>\n",
       "    </tr>\n",
       "    <tr>\n",
       "      <th>2</th>\n",
       "      <td>@swonderlin Can not wait for #iPad 2 also. The...</td>\n",
       "      <td>iPad</td>\n",
       "      <td>Positive emotion</td>\n",
       "    </tr>\n",
       "    <tr>\n",
       "      <th>3</th>\n",
       "      <td>@sxsw I hope this year's festival isn't as cra...</td>\n",
       "      <td>iPad or iPhone App</td>\n",
       "      <td>Negative emotion</td>\n",
       "    </tr>\n",
       "    <tr>\n",
       "      <th>4</th>\n",
       "      <td>@sxtxstate great stuff on Fri #SXSW: Marissa M...</td>\n",
       "      <td>Google</td>\n",
       "      <td>Positive emotion</td>\n",
       "    </tr>\n",
       "  </tbody>\n",
       "</table>\n",
       "</div>"
      ],
      "text/plain": [
       "                                          tweet_text  \\\n",
       "0  .@wesley83 I have a 3G iPhone. After 3 hrs twe...   \n",
       "1  @jessedee Know about @fludapp ? Awesome iPad/i...   \n",
       "2  @swonderlin Can not wait for #iPad 2 also. The...   \n",
       "3  @sxsw I hope this year's festival isn't as cra...   \n",
       "4  @sxtxstate great stuff on Fri #SXSW: Marissa M...   \n",
       "\n",
       "  emotion_in_tweet_is_directed_at  \\\n",
       "0                          iPhone   \n",
       "1              iPad or iPhone App   \n",
       "2                            iPad   \n",
       "3              iPad or iPhone App   \n",
       "4                          Google   \n",
       "\n",
       "  is_there_an_emotion_directed_at_a_brand_or_product  \n",
       "0                                   Negative emotion  \n",
       "1                                   Positive emotion  \n",
       "2                                   Positive emotion  \n",
       "3                                   Negative emotion  \n",
       "4                                   Positive emotion  "
      ]
     },
     "execution_count": 5,
     "metadata": {},
     "output_type": "execute_result"
    }
   ],
   "source": [
    "# loading and previewing the dataset\n",
    "data = pd.read_csv('data.csv', encoding='ISO-8859-1')\n",
    "data.head()"
   ]
  },
  {
   "attachments": {},
   "cell_type": "markdown",
   "metadata": {},
   "source": [
    "## Statiscal Description of the dataset"
   ]
  },
  {
   "cell_type": "code",
   "execution_count": 9,
   "metadata": {},
   "outputs": [],
   "source": [
    "# class to describe dataset\n",
    "\n",
    "class Describer:\n",
    "    \n",
    "    # initialize object\n",
    "    def __init__(self, df):\n",
    "        self.df = df\n",
    "        \n",
    "    # method to check shape of data\n",
    "    def shape(self):\n",
    "        out = print(f\"The DataFrame has:\\n\\t* {self.df.shape[0]} rows\\n\\t* {self.df.shape[1]} columns\", '\\n')\n",
    "        return out\n",
    "    \n",
    "    # method to check info on dataset\n",
    "    def data_info(self):\n",
    "        out = print(self.df.info(), '\\n')\n",
    "        return out\n",
    "    \n",
    "    # method to describe numerical columns\n",
    "    def data_describe(self):\n",
    "        out = self.df.describe()\n",
    "        return out"
   ]
  },
  {
   "cell_type": "code",
   "execution_count": 10,
   "metadata": {},
   "outputs": [
    {
     "name": "stdout",
     "output_type": "stream",
     "text": [
      "The DataFrame has:\n",
      "\t* 9093 rows\n",
      "\t* 3 columns \n",
      "\n"
     ]
    }
   ],
   "source": [
    "# creating an instance of the class describer\n",
    "describe_df = Describer(data)\n",
    "\n",
    "# lets view the shape of the data\n",
    "describe_df.shape()"
   ]
  },
  {
   "cell_type": "code",
   "execution_count": 11,
   "metadata": {},
   "outputs": [
    {
     "name": "stdout",
     "output_type": "stream",
     "text": [
      "Summary infomation on dataset\n",
      "-----------------------------------------------\n",
      "<class 'pandas.core.frame.DataFrame'>\n",
      "RangeIndex: 9093 entries, 0 to 9092\n",
      "Data columns (total 3 columns):\n",
      " #   Column                                              Non-Null Count  Dtype \n",
      "---  ------                                              --------------  ----- \n",
      " 0   tweet_text                                          9092 non-null   object\n",
      " 1   emotion_in_tweet_is_directed_at                     3291 non-null   object\n",
      " 2   is_there_an_emotion_directed_at_a_brand_or_product  9093 non-null   object\n",
      "dtypes: object(3)\n",
      "memory usage: 213.2+ KB\n",
      "None \n",
      "\n"
     ]
    }
   ],
   "source": [
    "# print summary infomation on the dataset\n",
    "print('Summary infomation on dataset')\n",
    "print('-----------------------------------------------')\n",
    "describe_df.data_info()"
   ]
  },
  {
   "attachments": {},
   "cell_type": "markdown",
   "metadata": {},
   "source": [
    "* The dataset has 3 columns  namely:tweet_text, emotion_in_tweet_is_directed_at ,is_there_an_emotion_directed_at_a_brand_or_product\n",
    "\n",
    "* The  dataset has 9093 rows\n",
    "\n",
    "* All the  dataset's columns  datatypes are objects"
   ]
  },
  {
   "attachments": {},
   "cell_type": "markdown",
   "metadata": {},
   "source": [
    "## Data Preparation"
   ]
  },
  {
   "cell_type": "code",
   "execution_count": 12,
   "metadata": {},
   "outputs": [
    {
     "name": "stdout",
     "output_type": "stream",
     "text": [
      "The Data has missing values.\n"
     ]
    }
   ],
   "source": [
    "#  Defined a function to check for  missing values\n",
    "\n",
    "# identify missing \n",
    "def identify_missing_values(data):\n",
    "    \"\"\"Identify is the data has missing values\"\"\"\n",
    "    # identify if data has missing values(data.isnull().any())\n",
    "    # empty dict to store missing values\n",
    "    missing = []\n",
    "    for i in data.isnull().any():\n",
    "        # add the bool values to empty list \n",
    "        missing.append(i)\n",
    "    # covert list to set (if data has missing value, the list should have true and false)\n",
    "    missing_set = set(missing)\n",
    "    if (len(missing_set) == 1):\n",
    "        out = print(\"The Data has no missing values\")\n",
    "    else:\n",
    "        out = print(\"The Data has missing values.\")\n",
    "\n",
    "    return out\n",
    "\n",
    "identify_missing_values(data)"
   ]
  },
  {
   "cell_type": "code",
   "execution_count": 13,
   "metadata": {},
   "outputs": [
    {
     "data": {
      "text/html": [
       "<div>\n",
       "<style scoped>\n",
       "    .dataframe tbody tr th:only-of-type {\n",
       "        vertical-align: middle;\n",
       "    }\n",
       "\n",
       "    .dataframe tbody tr th {\n",
       "        vertical-align: top;\n",
       "    }\n",
       "\n",
       "    .dataframe thead th {\n",
       "        text-align: right;\n",
       "    }\n",
       "</style>\n",
       "<table border=\"1\" class=\"dataframe\">\n",
       "  <thead>\n",
       "    <tr style=\"text-align: right;\">\n",
       "      <th></th>\n",
       "      <th>Missing Values</th>\n",
       "      <th>Percentage(%)</th>\n",
       "    </tr>\n",
       "  </thead>\n",
       "  <tbody>\n",
       "    <tr>\n",
       "      <th>emotion_in_tweet_is_directed_at</th>\n",
       "      <td>5802</td>\n",
       "      <td>0.638073</td>\n",
       "    </tr>\n",
       "    <tr>\n",
       "      <th>tweet_text</th>\n",
       "      <td>1</td>\n",
       "      <td>0.000110</td>\n",
       "    </tr>\n",
       "  </tbody>\n",
       "</table>\n",
       "</div>"
      ],
      "text/plain": [
       "                                 Missing Values  Percentage(%)\n",
       "emotion_in_tweet_is_directed_at            5802       0.638073\n",
       "tweet_text                                    1       0.000110"
      ]
     },
     "execution_count": 13,
     "metadata": {},
     "output_type": "execute_result"
    }
   ],
   "source": [
    "# Defined a function to display  the missing values\n",
    "\n",
    "def missing_values(data):\n",
    "    \"\"\"A simple function to identify data has missing values\"\"\"\n",
    "    # identify the total missing values per column\n",
    "    # sort in order \n",
    "    miss = data.isnull().sum().sort_values(ascending = False)\n",
    "\n",
    "    # calculate percentage of the missing values\n",
    "    percentage_miss = (data.isnull().sum() / len(data)).sort_values(ascending = False)\n",
    "\n",
    "    # store in a dataframe \n",
    "    missing = pd.DataFrame({\"Missing Values\": miss, \"Percentage(%)\": percentage_miss})\n",
    "\n",
    "    # remove values that are missing \n",
    "    missing.drop(missing[missing[\"Percentage(%)\"] == 0].index, inplace = True)\n",
    "\n",
    "    return missing\n",
    "\n",
    "\n",
    "missing_values(data)\n"
   ]
  },
  {
   "cell_type": "code",
   "execution_count": 14,
   "metadata": {},
   "outputs": [],
   "source": [
    "# dropping missing row in tweet_text\n",
    "\n",
    "data.dropna(axis=0,subset=['tweet_text'],inplace=True)"
   ]
  },
  {
   "cell_type": "code",
   "execution_count": 15,
   "metadata": {},
   "outputs": [
    {
     "data": {
      "text/plain": [
       "tweet_text                                            False\n",
       "emotion_in_tweet_is_directed_at                        True\n",
       "is_there_an_emotion_directed_at_a_brand_or_product    False\n",
       "dtype: bool"
      ]
     },
     "execution_count": 15,
     "metadata": {},
     "output_type": "execute_result"
    }
   ],
   "source": [
    "# confirmation\n",
    "data.isna().any()"
   ]
  },
  {
   "cell_type": "code",
   "execution_count": 16,
   "metadata": {},
   "outputs": [],
   "source": [
    "# replacing null values in recipient with none\n",
    "data['emotion_in_tweet_is_directed_at'].fillna('none', inplace =True)"
   ]
  },
  {
   "cell_type": "code",
   "execution_count": 17,
   "metadata": {},
   "outputs": [
    {
     "data": {
      "text/plain": [
       "none                               5801\n",
       "iPad                                946\n",
       "Apple                               661\n",
       "iPad or iPhone App                  470\n",
       "Google                              430\n",
       "iPhone                              297\n",
       "Other Google product or service     293\n",
       "Android App                          81\n",
       "Android                              78\n",
       "Other Apple product or service       35\n",
       "Name: emotion_in_tweet_is_directed_at, dtype: int64"
      ]
     },
     "execution_count": 17,
     "metadata": {},
     "output_type": "execute_result"
    }
   ],
   "source": [
    "# confirming I replaced the 'nan' with 'none'\n",
    "data['emotion_in_tweet_is_directed_at'].value_counts()"
   ]
  },
  {
   "cell_type": "code",
   "execution_count": 18,
   "metadata": {},
   "outputs": [
    {
     "data": {
      "text/plain": [
       "tweet_text                                            False\n",
       "emotion_in_tweet_is_directed_at                       False\n",
       "is_there_an_emotion_directed_at_a_brand_or_product    False\n",
       "dtype: bool"
      ]
     },
     "execution_count": 18,
     "metadata": {},
     "output_type": "execute_result"
    }
   ],
   "source": [
    "data.isna().any()"
   ]
  },
  {
   "attachments": {},
   "cell_type": "markdown",
   "metadata": {},
   "source": [
    "* I discovered that there is ```0.01%``` missing values in **tweet_text** column and  ```63.81%``` missing values in **emotion_in_tweet_is_directed_at** column.\n",
    "\n",
    "* I replaced the missing values in the ```emotion tweet is directed at column``` with none for computational purposes and dropped the missing valuesin the ```tweet text```   column"
   ]
  },
  {
   "cell_type": "code",
   "execution_count": 19,
   "metadata": {},
   "outputs": [
    {
     "name": "stdout",
     "output_type": "stream",
     "text": [
      "The Data has 22 duplicated rows.\n",
      "This constitutes 0.242% of the data set.\n"
     ]
    }
   ],
   "source": [
    "# Defined a function to check for duplicates\n",
    "\n",
    "# Duplicated entries\n",
    "def identify_duplicates(data):\n",
    "    \"\"\"Simple function to identify any duplicates\"\"\"\n",
    "    # identify the duplicates (dataframename.duplicated() , can add .sum() to get total count)\n",
    "    # empty list to store Bool results from duplicated\n",
    "    duplicates = []\n",
    "    for i in data.duplicated():\n",
    "        duplicates.append(i)\n",
    "    # identify if there is any duplicates. (If there is any we expect a True value in the list duplicates)\n",
    "    duplicates_set = set(duplicates) \n",
    "    if (len(duplicates_set) == 1):\n",
    "        print(\"The Data has no duplicates\")\n",
    "    else:\n",
    "        no_true = 0\n",
    "        for val in duplicates:\n",
    "            if (val == True):\n",
    "                no_true += 1\n",
    "        # percentage of the data represented by duplicates \n",
    "        duplicates_percentage = np.round(((no_true / len(data)) * 100), 3)\n",
    "        print(f\"The Data has {no_true} duplicated rows.\\nThis constitutes {duplicates_percentage}% of the data set.\") \n",
    "\n",
    "\n",
    "\n",
    "identify_duplicates(data)"
   ]
  },
  {
   "cell_type": "code",
   "execution_count": 20,
   "metadata": {},
   "outputs": [
    {
     "name": "stdout",
     "output_type": "stream",
     "text": [
      "The Data has no duplicates\n"
     ]
    }
   ],
   "source": [
    "#  Defined a function to handle the duplicates \n",
    "\n",
    "def remove_duplicated_rows(data):\n",
    "    \"\"\"Simple Function to remove duplicated rows\"\"\"\n",
    "    data.drop_duplicates(subset=None, keep=\"first\", inplace=True)\n",
    "    # confirm if the duplicated rows have been removed\n",
    "    confirm = identify_duplicates(data)\n",
    "\n",
    "    return confirm \n",
    "\n",
    "\n",
    "remove_duplicated_rows(data)"
   ]
  },
  {
   "attachments": {},
   "cell_type": "markdown",
   "metadata": {},
   "source": [
    "> I found out that the **tweet text** column had 22 duplicates ```( 0.242% )``` and went ahead and  dropped  them."
   ]
  },
  {
   "cell_type": "code",
   "execution_count": 21,
   "metadata": {},
   "outputs": [
    {
     "data": {
      "text/html": [
       "<div>\n",
       "<style scoped>\n",
       "    .dataframe tbody tr th:only-of-type {\n",
       "        vertical-align: middle;\n",
       "    }\n",
       "\n",
       "    .dataframe tbody tr th {\n",
       "        vertical-align: top;\n",
       "    }\n",
       "\n",
       "    .dataframe thead th {\n",
       "        text-align: right;\n",
       "    }\n",
       "</style>\n",
       "<table border=\"1\" class=\"dataframe\">\n",
       "  <thead>\n",
       "    <tr style=\"text-align: right;\">\n",
       "      <th></th>\n",
       "      <th>tweet_text</th>\n",
       "      <th>recipient</th>\n",
       "      <th>emotion</th>\n",
       "    </tr>\n",
       "  </thead>\n",
       "  <tbody>\n",
       "    <tr>\n",
       "      <th>0</th>\n",
       "      <td>.@wesley83 I have a 3G iPhone. After 3 hrs twe...</td>\n",
       "      <td>iPhone</td>\n",
       "      <td>Negative emotion</td>\n",
       "    </tr>\n",
       "    <tr>\n",
       "      <th>1</th>\n",
       "      <td>@jessedee Know about @fludapp ? Awesome iPad/i...</td>\n",
       "      <td>iPad or iPhone App</td>\n",
       "      <td>Positive emotion</td>\n",
       "    </tr>\n",
       "    <tr>\n",
       "      <th>2</th>\n",
       "      <td>@swonderlin Can not wait for #iPad 2 also. The...</td>\n",
       "      <td>iPad</td>\n",
       "      <td>Positive emotion</td>\n",
       "    </tr>\n",
       "    <tr>\n",
       "      <th>3</th>\n",
       "      <td>@sxsw I hope this year's festival isn't as cra...</td>\n",
       "      <td>iPad or iPhone App</td>\n",
       "      <td>Negative emotion</td>\n",
       "    </tr>\n",
       "    <tr>\n",
       "      <th>4</th>\n",
       "      <td>@sxtxstate great stuff on Fri #SXSW: Marissa M...</td>\n",
       "      <td>Google</td>\n",
       "      <td>Positive emotion</td>\n",
       "    </tr>\n",
       "  </tbody>\n",
       "</table>\n",
       "</div>"
      ],
      "text/plain": [
       "                                          tweet_text           recipient  \\\n",
       "0  .@wesley83 I have a 3G iPhone. After 3 hrs twe...              iPhone   \n",
       "1  @jessedee Know about @fludapp ? Awesome iPad/i...  iPad or iPhone App   \n",
       "2  @swonderlin Can not wait for #iPad 2 also. The...                iPad   \n",
       "3  @sxsw I hope this year's festival isn't as cra...  iPad or iPhone App   \n",
       "4  @sxtxstate great stuff on Fri #SXSW: Marissa M...              Google   \n",
       "\n",
       "            emotion  \n",
       "0  Negative emotion  \n",
       "1  Positive emotion  \n",
       "2  Positive emotion  \n",
       "3  Negative emotion  \n",
       "4  Positive emotion  "
      ]
     },
     "execution_count": 21,
     "metadata": {},
     "output_type": "execute_result"
    }
   ],
   "source": [
    "# renaming the  long  column nmaes\n",
    "data = data.rename(columns={'emotion_in_tweet_is_directed_at':'recipient',\n",
    "                    'is_there_an_emotion_directed_at_a_brand_or_product':'emotion'})\n",
    "data.head()"
   ]
  },
  {
   "attachments": {},
   "cell_type": "markdown",
   "metadata": {},
   "source": [
    "I renamed  the column ```emotion_in_tweet_is_directed_at``` to ```recipient``` and the column ```is_there_an_emotion_directed_at_a_brand_or_product``` to ```emotion``` to enhance clarity and facilitate their usage in my subsequent computation"
   ]
  },
  {
   "attachments": {},
   "cell_type": "markdown",
   "metadata": {},
   "source": [
    "# Explaratory Data Analysis"
   ]
  },
  {
   "attachments": {},
   "cell_type": "markdown",
   "metadata": {},
   "source": [
    "* I conducted Univariate and Bivariate analysis of the sentiments and created visualizations to see how they relate with each other and individually."
   ]
  },
  {
   "attachments": {},
   "cell_type": "markdown",
   "metadata": {},
   "source": [
    "### Univariate Analysis"
   ]
  },
  {
   "attachments": {},
   "cell_type": "markdown",
   "metadata": {},
   "source": [
    "* Plotted  a count plot to show the distribution of the column `emotion`"
   ]
  },
  {
   "cell_type": "code",
   "execution_count": 105,
   "metadata": {},
   "outputs": [
    {
     "name": "stdout",
     "output_type": "stream",
     "text": [
      "No emotion toward brand or product    59.261301\n",
      "Positive emotion                      32.745314\n",
      "Negative emotion                       6.273429\n",
      "I can't tell                           1.719956\n",
      "Name: emotion, dtype: float64\n"
     ]
    },
    {
     "data": {
      "image/png": "[encoded data removed]",
      "text/plain": [
       "<Figure size 864x504 with 1 Axes>"
      ]
     },
     "metadata": {
      "needs_background": "light"
     },
     "output_type": "display_data"
    }
   ],
   "source": [
    "# checking the distribution of emotions\n",
    "percentage = data['emotion'].value_counts(normalize=True)\n",
    "print(percentage * 100)\n",
    "\n",
    "# count plot\n",
    "plt.figure(figsize=(12, 7))\n",
    "sns.countplot(data['emotion'])\n",
    "plt.title('Emotion Distribution Count')\n",
    "\n",
    "plt.savefig('Distribution of emotion column.png')\n",
    "plt.show();"
   ]
  },
  {
   "attachments": {},
   "cell_type": "markdown",
   "metadata": {},
   "source": [
    " I found out that majority of  people had  ```No emotion toward brand or product``` at ```59.26%``` followed by people with ```Positive emotions ``` at ```32.75%```\n",
    "\n",
    "```I can't tell``` makes up less than ```2%``` of the dataset, and doesn't offer much more information in the way of word significance than the tweets labeled No emotion toward brand or product."
   ]
  },
  {
   "attachments": {},
   "cell_type": "markdown",
   "metadata": {},
   "source": [
    "### Bivariate analysis\n",
    "I plotted a bar plot to visualize the distribution of sentiments `emotion` relative to the recipient"
   ]
  },
  {
   "cell_type": "code",
   "execution_count": 23,
   "metadata": {},
   "outputs": [
    {
     "data": {
      "image/png": "[encoded data removed]",
      "text/plain": [
       "<Figure size 1512x504 with 1 Axes>"
      ]
     },
     "metadata": {
      "needs_background": "light"
     },
     "output_type": "display_data"
    }
   ],
   "source": [
    "#  sentiment distribution product-wise\n",
    "recipient_group = data.groupby('recipient')['emotion'].value_counts().reset_index(name='count')\n",
    "# Calculate the ascending order of states based on churn count\n",
    "ascending_order = recipient_group.groupby('recipient')['count'].sum().sort_values().index\n",
    "\n",
    "plt.figure(figsize=(21,7))\n",
    "sns.barplot(x='recipient', y='count', hue='emotion', data=recipient_group, order=ascending_order)\n",
    "plt.xlabel('recipients')\n",
    "plt.ylabel('Count')\n",
    "plt.title('Sentiment Count Distribution')\n",
    "plt.show()"
   ]
  },
  {
   "attachments": {},
   "cell_type": "markdown",
   "metadata": {},
   "source": [
    "From the graph above  ```Ipad```  had the ```highest positive emotions``` followed by ```Apple```\n",
    "\n",
    "From the observation above since we see similar product brand names so  i went ahead and  mapped the products to their brand \n",
    "### Mapping products to Brands \n"
   ]
  },
  {
   "cell_type": "code",
   "execution_count": 24,
   "metadata": {},
   "outputs": [
    {
     "data": {
      "text/plain": [
       "none                               5788\n",
       "iPad                                945\n",
       "Apple                               659\n",
       "iPad or iPhone App                  469\n",
       "Google                              428\n",
       "iPhone                              296\n",
       "Other Google product or service     293\n",
       "Android App                          80\n",
       "Android                              77\n",
       "Other Apple product or service       35\n",
       "Name: recipient, dtype: int64"
      ]
     },
     "execution_count": 24,
     "metadata": {},
     "output_type": "execute_result"
    }
   ],
   "source": [
    "# value counts of recipient column\n",
    "data['recipient'].value_counts()"
   ]
  },
  {
   "cell_type": "code",
   "execution_count": 25,
   "metadata": {},
   "outputs": [],
   "source": [
    "# overall brand distribution\n",
    "# feature engineering\n",
    "data['brand'] = data['recipient'].map({'Other Apple product or service': 'Apple', \n",
    "                                           'Android': 'Google',\n",
    "                                           'Android App': 'Google',\n",
    "                                           'Other Google product or service ': 'Google',\n",
    "                                           'iPhone': 'Apple', \n",
    "                                           'Google':'Google',\n",
    "                                           'iPad or iPhone App': 'Apple',\n",
    "                                           'Apple':'Apple',\n",
    "                                           'iPad':'Apple',\n",
    "                                           'none': 'none'})"
   ]
  },
  {
   "cell_type": "code",
   "execution_count": 26,
   "metadata": {},
   "outputs": [
    {
     "data": {
      "text/html": [
       "<div>\n",
       "<style scoped>\n",
       "    .dataframe tbody tr th:only-of-type {\n",
       "        vertical-align: middle;\n",
       "    }\n",
       "\n",
       "    .dataframe tbody tr th {\n",
       "        vertical-align: top;\n",
       "    }\n",
       "\n",
       "    .dataframe thead th {\n",
       "        text-align: right;\n",
       "    }\n",
       "</style>\n",
       "<table border=\"1\" class=\"dataframe\">\n",
       "  <thead>\n",
       "    <tr style=\"text-align: right;\">\n",
       "      <th></th>\n",
       "      <th>tweet_text</th>\n",
       "      <th>recipient</th>\n",
       "      <th>emotion</th>\n",
       "      <th>brand</th>\n",
       "    </tr>\n",
       "  </thead>\n",
       "  <tbody>\n",
       "    <tr>\n",
       "      <th>0</th>\n",
       "      <td>.@wesley83 I have a 3G iPhone. After 3 hrs twe...</td>\n",
       "      <td>iPhone</td>\n",
       "      <td>Negative emotion</td>\n",
       "      <td>Apple</td>\n",
       "    </tr>\n",
       "    <tr>\n",
       "      <th>1</th>\n",
       "      <td>@jessedee Know about @fludapp ? Awesome iPad/i...</td>\n",
       "      <td>iPad or iPhone App</td>\n",
       "      <td>Positive emotion</td>\n",
       "      <td>Apple</td>\n",
       "    </tr>\n",
       "    <tr>\n",
       "      <th>2</th>\n",
       "      <td>@swonderlin Can not wait for #iPad 2 also. The...</td>\n",
       "      <td>iPad</td>\n",
       "      <td>Positive emotion</td>\n",
       "      <td>Apple</td>\n",
       "    </tr>\n",
       "    <tr>\n",
       "      <th>3</th>\n",
       "      <td>@sxsw I hope this year's festival isn't as cra...</td>\n",
       "      <td>iPad or iPhone App</td>\n",
       "      <td>Negative emotion</td>\n",
       "      <td>Apple</td>\n",
       "    </tr>\n",
       "    <tr>\n",
       "      <th>4</th>\n",
       "      <td>@sxtxstate great stuff on Fri #SXSW: Marissa M...</td>\n",
       "      <td>Google</td>\n",
       "      <td>Positive emotion</td>\n",
       "      <td>Google</td>\n",
       "    </tr>\n",
       "  </tbody>\n",
       "</table>\n",
       "</div>"
      ],
      "text/plain": [
       "                                          tweet_text           recipient  \\\n",
       "0  .@wesley83 I have a 3G iPhone. After 3 hrs twe...              iPhone   \n",
       "1  @jessedee Know about @fludapp ? Awesome iPad/i...  iPad or iPhone App   \n",
       "2  @swonderlin Can not wait for #iPad 2 also. The...                iPad   \n",
       "3  @sxsw I hope this year's festival isn't as cra...  iPad or iPhone App   \n",
       "4  @sxtxstate great stuff on Fri #SXSW: Marissa M...              Google   \n",
       "\n",
       "            emotion   brand  \n",
       "0  Negative emotion   Apple  \n",
       "1  Positive emotion   Apple  \n",
       "2  Positive emotion   Apple  \n",
       "3  Negative emotion   Apple  \n",
       "4  Positive emotion  Google  "
      ]
     },
     "execution_count": 26,
     "metadata": {},
     "output_type": "execute_result"
    }
   ],
   "source": [
    "# confirm brand column \n",
    "data.head(5)"
   ]
  },
  {
   "attachments": {},
   "cell_type": "markdown",
   "metadata": {},
   "source": [
    "## Brand Distributions\n",
    "\n",
    "#### **Univariate Analysis**"
   ]
  },
  {
   "cell_type": "code",
   "execution_count": 27,
   "metadata": {},
   "outputs": [
    {
     "name": "stdout",
     "output_type": "stream",
     "text": [
      "none      65.945084\n",
      "Apple     27.389769\n",
      "Google     6.665148\n",
      "Name: brand, dtype: float64\n"
     ]
    },
    {
     "data": {
      "image/png": "[encoded data removed]",
      "text/plain": [
       "<Figure size 864x504 with 1 Axes>"
      ]
     },
     "metadata": {
      "needs_background": "light"
     },
     "output_type": "display_data"
    }
   ],
   "source": [
    "# checking the distribution of brand sentiment\n",
    "percentage = data['brand'].value_counts(normalize=True)\n",
    "print(percentage * 100)\n",
    "\n",
    "# count plot\n",
    "plt.figure(figsize=(12, 7))\n",
    "sns.countplot(data['brand'])\n",
    "plt.title('Brand Distribution')\n",
    "plt.show();"
   ]
  },
  {
   "attachments": {},
   "cell_type": "markdown",
   "metadata": {},
   "source": [
    "From the graph above Majority of people had not specified the brand, and for those who did, ```Apple``` had the highest brand feedback as compared to ```Google```\n",
    "\n",
    "#### **Bivariate analysis**\n",
    "I plotted a bar plot to visualize the distribution of sentiments ***'emotion'*** relative to the ***Brand*** "
   ]
  },
  {
   "cell_type": "code",
   "execution_count": 28,
   "metadata": {},
   "outputs": [
    {
     "data": {
      "image/png": "[encoded data removed]",
      "text/plain": [
       "<Figure size 1512x504 with 1 Axes>"
      ]
     },
     "metadata": {
      "needs_background": "light"
     },
     "output_type": "display_data"
    }
   ],
   "source": [
    "# Visualizing sentiment distribution brand-wise\n",
    "brand_group = data.groupby('brand')['emotion'].value_counts().reset_index(name='count')\n",
    "# Calculate the ascending order of states based on churn count\n",
    "ascending_order = brand_group.groupby('brand')['count'].sum().sort_values().index\n",
    "\n",
    "plt.figure(figsize=(21,7))\n",
    "sns.barplot(x='brand', y='count', hue='emotion', data=brand_group, order=ascending_order)\n",
    "plt.xlabel('brand')\n",
    "plt.ylabel('Count')\n",
    "plt.title('Sentiment Count Distribution')\n",
    "plt.show()"
   ]
  },
  {
   "attachments": {},
   "cell_type": "markdown",
   "metadata": {},
   "source": [
    "\n",
    "From the graph above **Apple** had the highest ```positive emotions``` compared to **Google**"
   ]
  },
  {
   "attachments": {},
   "cell_type": "markdown",
   "metadata": {},
   "source": [
    "## Data Preprocessing"
   ]
  },
  {
   "attachments": {},
   "cell_type": "markdown",
   "metadata": {},
   "source": [
    "In this section I will; \n",
    "\n",
    "* Convert the tweet text to lower case\n",
    "* Remove html tags \n",
    "* Remove the Url \n",
    "* Expand the contractions \n",
    "* Remove the punctuations\n",
    "* Tokenize\n",
    "* Remove stopwords \n",
    "* Lemmatize the tweet\n",
    "\n",
    "So as to prepare the data for modeling."
   ]
  },
  {
   "cell_type": "code",
   "execution_count": 29,
   "metadata": {},
   "outputs": [
    {
     "data": {
      "text/plain": [
       "Index(['tweet_text', 'recipient', 'emotion', 'brand'], dtype='object')"
      ]
     },
     "execution_count": 29,
     "metadata": {},
     "output_type": "execute_result"
    }
   ],
   "source": [
    "# Displaying the columns \n",
    "data.columns"
   ]
  },
  {
   "attachments": {},
   "cell_type": "markdown",
   "metadata": {},
   "source": [
    "### Changing the text to lowercase"
   ]
  },
  {
   "cell_type": "code",
   "execution_count": 31,
   "metadata": {},
   "outputs": [
    {
     "data": {
      "text/html": [
       "<div>\n",
       "<style scoped>\n",
       "    .dataframe tbody tr th:only-of-type {\n",
       "        vertical-align: middle;\n",
       "    }\n",
       "\n",
       "    .dataframe tbody tr th {\n",
       "        vertical-align: top;\n",
       "    }\n",
       "\n",
       "    .dataframe thead th {\n",
       "        text-align: right;\n",
       "    }\n",
       "</style>\n",
       "<table border=\"1\" class=\"dataframe\">\n",
       "  <thead>\n",
       "    <tr style=\"text-align: right;\">\n",
       "      <th></th>\n",
       "      <th>tweet_text</th>\n",
       "      <th>recipient</th>\n",
       "      <th>emotion</th>\n",
       "      <th>brand</th>\n",
       "    </tr>\n",
       "  </thead>\n",
       "  <tbody>\n",
       "    <tr>\n",
       "      <th>0</th>\n",
       "      <td>.@wesley83 i have a 3g iphone. after 3 hrs twe...</td>\n",
       "      <td>iPhone</td>\n",
       "      <td>Negative emotion</td>\n",
       "      <td>Apple</td>\n",
       "    </tr>\n",
       "    <tr>\n",
       "      <th>1</th>\n",
       "      <td>@jessedee know about @fludapp ? awesome ipad/i...</td>\n",
       "      <td>iPad or iPhone App</td>\n",
       "      <td>Positive emotion</td>\n",
       "      <td>Apple</td>\n",
       "    </tr>\n",
       "    <tr>\n",
       "      <th>2</th>\n",
       "      <td>@swonderlin can not wait for #ipad 2 also. the...</td>\n",
       "      <td>iPad</td>\n",
       "      <td>Positive emotion</td>\n",
       "      <td>Apple</td>\n",
       "    </tr>\n",
       "    <tr>\n",
       "      <th>3</th>\n",
       "      <td>@sxsw i hope this year's festival isn't as cra...</td>\n",
       "      <td>iPad or iPhone App</td>\n",
       "      <td>Negative emotion</td>\n",
       "      <td>Apple</td>\n",
       "    </tr>\n",
       "    <tr>\n",
       "      <th>4</th>\n",
       "      <td>@sxtxstate great stuff on fri #sxsw: marissa m...</td>\n",
       "      <td>Google</td>\n",
       "      <td>Positive emotion</td>\n",
       "      <td>Google</td>\n",
       "    </tr>\n",
       "  </tbody>\n",
       "</table>\n",
       "</div>"
      ],
      "text/plain": [
       "                                          tweet_text           recipient  \\\n",
       "0  .@wesley83 i have a 3g iphone. after 3 hrs twe...              iPhone   \n",
       "1  @jessedee know about @fludapp ? awesome ipad/i...  iPad or iPhone App   \n",
       "2  @swonderlin can not wait for #ipad 2 also. the...                iPad   \n",
       "3  @sxsw i hope this year's festival isn't as cra...  iPad or iPhone App   \n",
       "4  @sxtxstate great stuff on fri #sxsw: marissa m...              Google   \n",
       "\n",
       "            emotion   brand  \n",
       "0  Negative emotion   Apple  \n",
       "1  Positive emotion   Apple  \n",
       "2  Positive emotion   Apple  \n",
       "3  Negative emotion   Apple  \n",
       "4  Positive emotion  Google  "
      ]
     },
     "execution_count": 31,
     "metadata": {},
     "output_type": "execute_result"
    }
   ],
   "source": [
    "# Convert the text in the 'tweet_text' column to lowercase\n",
    "data['tweet_text'] = data['tweet_text'].str.lower()\n",
    "\n",
    "# Display the first 5 rows of the DataFrame\n",
    "data.head(5)"
   ]
  },
  {
   "attachments": {},
   "cell_type": "markdown",
   "metadata": {},
   "source": [
    "### Removing Html tags and URL"
   ]
  },
  {
   "cell_type": "code",
   "execution_count": 32,
   "metadata": {},
   "outputs": [
    {
     "data": {
      "text/plain": [
       "'great #sxsw ipad app from @madebymany: http://tinyurl.com/4nqv92l'"
      ]
     },
     "execution_count": 32,
     "metadata": {},
     "output_type": "execute_result"
    }
   ],
   "source": [
    "# Access the 'tweet_text' value at index 14 in the DataFrame\n",
    "data['tweet_text'][14]"
   ]
  },
  {
   "cell_type": "code",
   "execution_count": 33,
   "metadata": {},
   "outputs": [],
   "source": [
    "# Defined a function to remove HTML tags \n",
    "def remove_html(review):\n",
    "    pattern = re.compile('<.*?>')\n",
    "    return pattern.sub(r'', review)\n",
    "\n",
    "# Apply the 'remove_html' function to the 'tweet_text' column in the DataFrame\n",
    "data['tweet_text'] = data['tweet_text'].apply(remove_html)\n"
   ]
  },
  {
   "cell_type": "code",
   "execution_count": 34,
   "metadata": {},
   "outputs": [],
   "source": [
    "# Defined a function for removing URL and @ sign\n",
    "def preprocess_text_removingq_URLand_atsign(text):\n",
    "    # Remove URLs\n",
    "    clean_text = re.sub(r\"http\\S+|www\\S+|https\\S+\", \"\", text)\n",
    "    text = re.sub(r'@[^\\s]+', 'user', clean_text)\n",
    "    # Other preprocessing steps like removing punctuation, converting to lowercase, etc.\n",
    "    # ...\n",
    "    return text\n",
    "\n",
    "data['tweet_text'] = data['tweet_text'].apply(preprocess_text_removingq_URLand_atsign)"
   ]
  },
  {
   "cell_type": "code",
   "execution_count": 35,
   "metadata": {},
   "outputs": [
    {
     "data": {
      "text/plain": [
       "'great #sxsw ipad app from user '"
      ]
     },
     "execution_count": 35,
     "metadata": {},
     "output_type": "execute_result"
    }
   ],
   "source": [
    "# confirming  if the url has been replaced with an empty\n",
    "data['tweet_text'][14]"
   ]
  },
  {
   "cell_type": "code",
   "execution_count": 36,
   "metadata": {},
   "outputs": [
    {
     "data": {
      "text/html": [
       "<div>\n",
       "<style scoped>\n",
       "    .dataframe tbody tr th:only-of-type {\n",
       "        vertical-align: middle;\n",
       "    }\n",
       "\n",
       "    .dataframe tbody tr th {\n",
       "        vertical-align: top;\n",
       "    }\n",
       "\n",
       "    .dataframe thead th {\n",
       "        text-align: right;\n",
       "    }\n",
       "</style>\n",
       "<table border=\"1\" class=\"dataframe\">\n",
       "  <thead>\n",
       "    <tr style=\"text-align: right;\">\n",
       "      <th></th>\n",
       "      <th>tweet_text</th>\n",
       "      <th>recipient</th>\n",
       "      <th>emotion</th>\n",
       "      <th>brand</th>\n",
       "    </tr>\n",
       "  </thead>\n",
       "  <tbody>\n",
       "    <tr>\n",
       "      <th>0</th>\n",
       "      <td>.user i have a 3g iphone. after 3 hrs tweeting...</td>\n",
       "      <td>iPhone</td>\n",
       "      <td>Negative emotion</td>\n",
       "      <td>Apple</td>\n",
       "    </tr>\n",
       "    <tr>\n",
       "      <th>1</th>\n",
       "      <td>user know about user ? awesome ipad/iphone app...</td>\n",
       "      <td>iPad or iPhone App</td>\n",
       "      <td>Positive emotion</td>\n",
       "      <td>Apple</td>\n",
       "    </tr>\n",
       "    <tr>\n",
       "      <th>2</th>\n",
       "      <td>user can not wait for #ipad 2 also. they shoul...</td>\n",
       "      <td>iPad</td>\n",
       "      <td>Positive emotion</td>\n",
       "      <td>Apple</td>\n",
       "    </tr>\n",
       "    <tr>\n",
       "      <th>3</th>\n",
       "      <td>user i hope this year's festival isn't as cras...</td>\n",
       "      <td>iPad or iPhone App</td>\n",
       "      <td>Negative emotion</td>\n",
       "      <td>Apple</td>\n",
       "    </tr>\n",
       "    <tr>\n",
       "      <th>4</th>\n",
       "      <td>user great stuff on fri #sxsw: marissa mayer (...</td>\n",
       "      <td>Google</td>\n",
       "      <td>Positive emotion</td>\n",
       "      <td>Google</td>\n",
       "    </tr>\n",
       "  </tbody>\n",
       "</table>\n",
       "</div>"
      ],
      "text/plain": [
       "                                          tweet_text           recipient  \\\n",
       "0  .user i have a 3g iphone. after 3 hrs tweeting...              iPhone   \n",
       "1  user know about user ? awesome ipad/iphone app...  iPad or iPhone App   \n",
       "2  user can not wait for #ipad 2 also. they shoul...                iPad   \n",
       "3  user i hope this year's festival isn't as cras...  iPad or iPhone App   \n",
       "4  user great stuff on fri #sxsw: marissa mayer (...              Google   \n",
       "\n",
       "            emotion   brand  \n",
       "0  Negative emotion   Apple  \n",
       "1  Positive emotion   Apple  \n",
       "2  Positive emotion   Apple  \n",
       "3  Negative emotion   Apple  \n",
       "4  Positive emotion  Google  "
      ]
     },
     "execution_count": 36,
     "metadata": {},
     "output_type": "execute_result"
    }
   ],
   "source": [
    "data.head()"
   ]
  },
  {
   "attachments": {},
   "cell_type": "markdown",
   "metadata": {},
   "source": [
    "### Expanding Words\n",
    "converted abbreviated words to their full form "
   ]
  },
  {
   "cell_type": "code",
   "execution_count": 38,
   "metadata": {},
   "outputs": [],
   "source": [
    "# expanding the contractions (is-nots)\n",
    "import contractions\n",
    "#from nltk.stem import WordNetLemmatizer\n",
    "\n",
    "def expand(text):\n",
    "    # Expand contractions\n",
    "    expanded_text = contractions.fix(text)\n",
    "\n",
    "    return expanded_text\n",
    "\n",
    "data['tweet_text'] = data['tweet_text'].apply(expand)"
   ]
  },
  {
   "cell_type": "code",
   "execution_count": 42,
   "metadata": {},
   "outputs": [
    {
     "data": {
      "text/plain": [
       "\"user i hope this year's festival is not as crashy as this year's iphone app. #sxsw\""
      ]
     },
     "execution_count": 42,
     "metadata": {},
     "output_type": "execute_result"
    }
   ],
   "source": [
    "data.tweet_text[3]"
   ]
  },
  {
   "attachments": {},
   "cell_type": "markdown",
   "metadata": {},
   "source": [
    "### Removing Punctuations"
   ]
  },
  {
   "cell_type": "code",
   "execution_count": 43,
   "metadata": {},
   "outputs": [
    {
     "name": "stdout",
     "output_type": "stream",
     "text": [
      "!\"#$%&'()*+,-./:;<=>?@[\\]^_`{|}~\n"
     ]
    }
   ],
   "source": [
    "# Defined a string containing punctuation characters to exclude\n",
    "exclude = string.punctuation\n",
    "print(exclude)"
   ]
  },
  {
   "cell_type": "code",
   "execution_count": 44,
   "metadata": {},
   "outputs": [],
   "source": [
    "# Defined a function to remove punctuations\n",
    "def remove_punctuations(tweet):\n",
    "    return tweet.translate(str.maketrans('','',exclude))"
   ]
  },
  {
   "cell_type": "code",
   "execution_count": 45,
   "metadata": {},
   "outputs": [
    {
     "data": {
      "text/html": [
       "<div>\n",
       "<style scoped>\n",
       "    .dataframe tbody tr th:only-of-type {\n",
       "        vertical-align: middle;\n",
       "    }\n",
       "\n",
       "    .dataframe tbody tr th {\n",
       "        vertical-align: top;\n",
       "    }\n",
       "\n",
       "    .dataframe thead th {\n",
       "        text-align: right;\n",
       "    }\n",
       "</style>\n",
       "<table border=\"1\" class=\"dataframe\">\n",
       "  <thead>\n",
       "    <tr style=\"text-align: right;\">\n",
       "      <th></th>\n",
       "      <th>tweet_text</th>\n",
       "      <th>recipient</th>\n",
       "      <th>emotion</th>\n",
       "      <th>brand</th>\n",
       "    </tr>\n",
       "  </thead>\n",
       "  <tbody>\n",
       "    <tr>\n",
       "      <th>0</th>\n",
       "      <td>user i have a 3g iphone after 3 hrs tweeting a...</td>\n",
       "      <td>iPhone</td>\n",
       "      <td>Negative emotion</td>\n",
       "      <td>Apple</td>\n",
       "    </tr>\n",
       "    <tr>\n",
       "      <th>1</th>\n",
       "      <td>user know about user  awesome ipadiphone app t...</td>\n",
       "      <td>iPad or iPhone App</td>\n",
       "      <td>Positive emotion</td>\n",
       "      <td>Apple</td>\n",
       "    </tr>\n",
       "    <tr>\n",
       "      <th>2</th>\n",
       "      <td>user can not wait for ipad 2 also they should ...</td>\n",
       "      <td>iPad</td>\n",
       "      <td>Positive emotion</td>\n",
       "      <td>Apple</td>\n",
       "    </tr>\n",
       "    <tr>\n",
       "      <th>3</th>\n",
       "      <td>user i hope this years festival is not as cras...</td>\n",
       "      <td>iPad or iPhone App</td>\n",
       "      <td>Negative emotion</td>\n",
       "      <td>Apple</td>\n",
       "    </tr>\n",
       "    <tr>\n",
       "      <th>4</th>\n",
       "      <td>user great stuff on fri sxsw marissa mayer goo...</td>\n",
       "      <td>Google</td>\n",
       "      <td>Positive emotion</td>\n",
       "      <td>Google</td>\n",
       "    </tr>\n",
       "  </tbody>\n",
       "</table>\n",
       "</div>"
      ],
      "text/plain": [
       "                                          tweet_text           recipient  \\\n",
       "0  user i have a 3g iphone after 3 hrs tweeting a...              iPhone   \n",
       "1  user know about user  awesome ipadiphone app t...  iPad or iPhone App   \n",
       "2  user can not wait for ipad 2 also they should ...                iPad   \n",
       "3  user i hope this years festival is not as cras...  iPad or iPhone App   \n",
       "4  user great stuff on fri sxsw marissa mayer goo...              Google   \n",
       "\n",
       "            emotion   brand  \n",
       "0  Negative emotion   Apple  \n",
       "1  Positive emotion   Apple  \n",
       "2  Positive emotion   Apple  \n",
       "3  Negative emotion   Apple  \n",
       "4  Positive emotion  Google  "
      ]
     },
     "execution_count": 45,
     "metadata": {},
     "output_type": "execute_result"
    }
   ],
   "source": [
    "# Apply a function to remove punctuations from the 'tweet_text' column\n",
    "data['tweet_text'] = data['tweet_text'].apply(remove_punctuations)\n",
    "\n",
    "# Display the first few rows of the modified DataFrame\n",
    "data.head()"
   ]
  },
  {
   "cell_type": "code",
   "execution_count": 46,
   "metadata": {},
   "outputs": [
    {
     "data": {
      "text/plain": [
       "'need to buy an ipad2 while i am in austin at sxsw not sure if i will need to q up at an austin apple store'"
      ]
     },
     "execution_count": 46,
     "metadata": {},
     "output_type": "execute_result"
    }
   ],
   "source": [
    "data.tweet_text[20]"
   ]
  },
  {
   "attachments": {},
   "cell_type": "markdown",
   "metadata": {},
   "source": [
    "### Tokenization and Removing Stopwords"
   ]
  },
  {
   "cell_type": "code",
   "execution_count": 47,
   "metadata": {},
   "outputs": [
    {
     "data": {
      "text/html": [
       "<div>\n",
       "<style scoped>\n",
       "    .dataframe tbody tr th:only-of-type {\n",
       "        vertical-align: middle;\n",
       "    }\n",
       "\n",
       "    .dataframe tbody tr th {\n",
       "        vertical-align: top;\n",
       "    }\n",
       "\n",
       "    .dataframe thead th {\n",
       "        text-align: right;\n",
       "    }\n",
       "</style>\n",
       "<table border=\"1\" class=\"dataframe\">\n",
       "  <thead>\n",
       "    <tr style=\"text-align: right;\">\n",
       "      <th></th>\n",
       "      <th>tweet_text</th>\n",
       "      <th>recipient</th>\n",
       "      <th>emotion</th>\n",
       "      <th>brand</th>\n",
       "    </tr>\n",
       "  </thead>\n",
       "  <tbody>\n",
       "    <tr>\n",
       "      <th>0</th>\n",
       "      <td>[user, i, have, a, 3g, iphone, after, 3, hrs, ...</td>\n",
       "      <td>iPhone</td>\n",
       "      <td>Negative emotion</td>\n",
       "      <td>Apple</td>\n",
       "    </tr>\n",
       "    <tr>\n",
       "      <th>1</th>\n",
       "      <td>[user, know, about, user, awesome, ipadiphone,...</td>\n",
       "      <td>iPad or iPhone App</td>\n",
       "      <td>Positive emotion</td>\n",
       "      <td>Apple</td>\n",
       "    </tr>\n",
       "    <tr>\n",
       "      <th>2</th>\n",
       "      <td>[user, can, not, wait, for, ipad, 2, also, the...</td>\n",
       "      <td>iPad</td>\n",
       "      <td>Positive emotion</td>\n",
       "      <td>Apple</td>\n",
       "    </tr>\n",
       "    <tr>\n",
       "      <th>3</th>\n",
       "      <td>[user, i, hope, this, years, festival, is, not...</td>\n",
       "      <td>iPad or iPhone App</td>\n",
       "      <td>Negative emotion</td>\n",
       "      <td>Apple</td>\n",
       "    </tr>\n",
       "    <tr>\n",
       "      <th>4</th>\n",
       "      <td>[user, great, stuff, on, fri, sxsw, marissa, m...</td>\n",
       "      <td>Google</td>\n",
       "      <td>Positive emotion</td>\n",
       "      <td>Google</td>\n",
       "    </tr>\n",
       "  </tbody>\n",
       "</table>\n",
       "</div>"
      ],
      "text/plain": [
       "                                          tweet_text           recipient  \\\n",
       "0  [user, i, have, a, 3g, iphone, after, 3, hrs, ...              iPhone   \n",
       "1  [user, know, about, user, awesome, ipadiphone,...  iPad or iPhone App   \n",
       "2  [user, can, not, wait, for, ipad, 2, also, the...                iPad   \n",
       "3  [user, i, hope, this, years, festival, is, not...  iPad or iPhone App   \n",
       "4  [user, great, stuff, on, fri, sxsw, marissa, m...              Google   \n",
       "\n",
       "            emotion   brand  \n",
       "0  Negative emotion   Apple  \n",
       "1  Positive emotion   Apple  \n",
       "2  Positive emotion   Apple  \n",
       "3  Negative emotion   Apple  \n",
       "4  Positive emotion  Google  "
      ]
     },
     "execution_count": 47,
     "metadata": {},
     "output_type": "execute_result"
    }
   ],
   "source": [
    "# tokenize the tweets\n",
    "def tokenize_text(tweet):\n",
    "    return word_tokenize(tweet)\n",
    "\n",
    "data['tweet_text'] = data['tweet_text'].apply(tokenize_text)\n",
    "data.head()"
   ]
  },
  {
   "cell_type": "code",
   "execution_count": 48,
   "metadata": {},
   "outputs": [
    {
     "data": {
      "text/html": [
       "<div>\n",
       "<style scoped>\n",
       "    .dataframe tbody tr th:only-of-type {\n",
       "        vertical-align: middle;\n",
       "    }\n",
       "\n",
       "    .dataframe tbody tr th {\n",
       "        vertical-align: top;\n",
       "    }\n",
       "\n",
       "    .dataframe thead th {\n",
       "        text-align: right;\n",
       "    }\n",
       "</style>\n",
       "<table border=\"1\" class=\"dataframe\">\n",
       "  <thead>\n",
       "    <tr style=\"text-align: right;\">\n",
       "      <th></th>\n",
       "      <th>tweet_text</th>\n",
       "      <th>recipient</th>\n",
       "      <th>emotion</th>\n",
       "      <th>brand</th>\n",
       "    </tr>\n",
       "  </thead>\n",
       "  <tbody>\n",
       "    <tr>\n",
       "      <th>0</th>\n",
       "      <td>user 3g iphone 3 hrs tweeting riseaustin dead ...</td>\n",
       "      <td>iPhone</td>\n",
       "      <td>Negative emotion</td>\n",
       "      <td>Apple</td>\n",
       "    </tr>\n",
       "    <tr>\n",
       "      <th>1</th>\n",
       "      <td>user know user awesome ipadiphone app likely a...</td>\n",
       "      <td>iPad or iPhone App</td>\n",
       "      <td>Positive emotion</td>\n",
       "      <td>Apple</td>\n",
       "    </tr>\n",
       "    <tr>\n",
       "      <th>2</th>\n",
       "      <td>user wait ipad 2 also sale sxsw</td>\n",
       "      <td>iPad</td>\n",
       "      <td>Positive emotion</td>\n",
       "      <td>Apple</td>\n",
       "    </tr>\n",
       "    <tr>\n",
       "      <th>3</th>\n",
       "      <td>user hope years festival crashy years iphone a...</td>\n",
       "      <td>iPad or iPhone App</td>\n",
       "      <td>Negative emotion</td>\n",
       "      <td>Apple</td>\n",
       "    </tr>\n",
       "    <tr>\n",
       "      <th>4</th>\n",
       "      <td>user great stuff fri sxsw marissa mayer google...</td>\n",
       "      <td>Google</td>\n",
       "      <td>Positive emotion</td>\n",
       "      <td>Google</td>\n",
       "    </tr>\n",
       "  </tbody>\n",
       "</table>\n",
       "</div>"
      ],
      "text/plain": [
       "                                          tweet_text           recipient  \\\n",
       "0  user 3g iphone 3 hrs tweeting riseaustin dead ...              iPhone   \n",
       "1  user know user awesome ipadiphone app likely a...  iPad or iPhone App   \n",
       "2                    user wait ipad 2 also sale sxsw                iPad   \n",
       "3  user hope years festival crashy years iphone a...  iPad or iPhone App   \n",
       "4  user great stuff fri sxsw marissa mayer google...              Google   \n",
       "\n",
       "            emotion   brand  \n",
       "0  Negative emotion   Apple  \n",
       "1  Positive emotion   Apple  \n",
       "2  Positive emotion   Apple  \n",
       "3  Negative emotion   Apple  \n",
       "4  Positive emotion  Google  "
      ]
     },
     "execution_count": 48,
     "metadata": {},
     "output_type": "execute_result"
    }
   ],
   "source": [
    "# Removing stop words\n",
    "stop_words = set(stopwords.words('english'))\n",
    "\n",
    "def remove_stopwords(tweet):\n",
    "    # Use list comprehension for efficient list creation\n",
    "    new_tweet = [word for word in tweet if word not in stop_words]\n",
    "    return \" \".join(new_tweet)\n",
    "\n",
    "# Apply the function to the 'review' column\n",
    "data['tweet_text'] = data['tweet_text'].apply(remove_stopwords)\n",
    "data.head()"
   ]
  },
  {
   "cell_type": "code",
   "execution_count": 50,
   "metadata": {},
   "outputs": [
    {
     "data": {
      "text/plain": [
       "No emotion toward brand or product    5375\n",
       "Positive emotion                      2970\n",
       "Negative emotion                       569\n",
       "I can't tell                           156\n",
       "Name: emotion, dtype: int64"
      ]
     },
     "execution_count": 50,
     "metadata": {},
     "output_type": "execute_result"
    }
   ],
   "source": [
    "# Count the occurrences of each unique value in the 'emotion' column\n",
    "data.emotion.value_counts()"
   ]
  },
  {
   "attachments": {},
   "cell_type": "markdown",
   "metadata": {},
   "source": [
    "### Words Distribution in Tweet Text"
   ]
  },
  {
   "cell_type": "code",
   "execution_count": 51,
   "metadata": {},
   "outputs": [
    {
     "data": {
      "image/png": "[encoded data removed]",
      "text/plain": [
       "<Figure size 864x576 with 4 Axes>"
      ]
     },
     "metadata": {
      "needs_background": "light"
     },
     "output_type": "display_data"
    }
   ],
   "source": [
    "# Defined a function to generate and plot histograms for tweet text length\n",
    "\n",
    "def generate_review_hist_plot(data, label, color, ax):\n",
    "    tweet_len = data[data['emotion']==label].tweet_text.str.split().map(lambda x: len(x))\n",
    "    ax.set_xlim(0, 25)\n",
    "    ax.set_ylim(0, 800)\n",
    "    ax.hist(tweet_len, color=color)\n",
    "    ax.set_title(f'{label.title()} tweet_text')\n",
    "\n",
    "# Create subplots for different emotion categories\n",
    "fig, ax = plt.subplots(nrows=2, ncols=2, figsize=(12,8))\n",
    "generate_review_hist_plot(data,'Positive emotion','green',ax[0,0])\n",
    "generate_review_hist_plot(data,'Negative emotion','red',ax[0,1])\n",
    "generate_review_hist_plot(data,'No emotion toward brand or product','blue',ax[1,0])\n",
    "generate_review_hist_plot(data,\"I can't tell\",'purple',ax[1,1])\n",
    "\n",
    "# Set the main title for the entire plot\n",
    "fig.suptitle(\"Words Distribution in Tweet Text\", fontsize=18)\n",
    "\n",
    "# Display the plot\n",
    "plt.show()"
   ]
  },
  {
   "attachments": {},
   "cell_type": "markdown",
   "metadata": {},
   "source": [
    "From the graph we can conclude that majority of the tweets in all the target emotions classes were 10-15 words long"
   ]
  },
  {
   "attachments": {},
   "cell_type": "markdown",
   "metadata": {},
   "source": [
    "### Re-tokenizing the Data"
   ]
  },
  {
   "cell_type": "code",
   "execution_count": 52,
   "metadata": {},
   "outputs": [
    {
     "data": {
      "text/html": [
       "<div>\n",
       "<style scoped>\n",
       "    .dataframe tbody tr th:only-of-type {\n",
       "        vertical-align: middle;\n",
       "    }\n",
       "\n",
       "    .dataframe tbody tr th {\n",
       "        vertical-align: top;\n",
       "    }\n",
       "\n",
       "    .dataframe thead th {\n",
       "        text-align: right;\n",
       "    }\n",
       "</style>\n",
       "<table border=\"1\" class=\"dataframe\">\n",
       "  <thead>\n",
       "    <tr style=\"text-align: right;\">\n",
       "      <th></th>\n",
       "      <th>tweet_text</th>\n",
       "      <th>recipient</th>\n",
       "      <th>emotion</th>\n",
       "      <th>brand</th>\n",
       "    </tr>\n",
       "  </thead>\n",
       "  <tbody>\n",
       "    <tr>\n",
       "      <th>0</th>\n",
       "      <td>[user, 3g, iphone, 3, hrs, tweeting, riseausti...</td>\n",
       "      <td>iPhone</td>\n",
       "      <td>Negative emotion</td>\n",
       "      <td>Apple</td>\n",
       "    </tr>\n",
       "    <tr>\n",
       "      <th>1</th>\n",
       "      <td>[user, know, user, awesome, ipadiphone, app, l...</td>\n",
       "      <td>iPad or iPhone App</td>\n",
       "      <td>Positive emotion</td>\n",
       "      <td>Apple</td>\n",
       "    </tr>\n",
       "    <tr>\n",
       "      <th>2</th>\n",
       "      <td>[user, wait, ipad, 2, also, sale, sxsw]</td>\n",
       "      <td>iPad</td>\n",
       "      <td>Positive emotion</td>\n",
       "      <td>Apple</td>\n",
       "    </tr>\n",
       "    <tr>\n",
       "      <th>3</th>\n",
       "      <td>[user, hope, years, festival, crashy, years, i...</td>\n",
       "      <td>iPad or iPhone App</td>\n",
       "      <td>Negative emotion</td>\n",
       "      <td>Apple</td>\n",
       "    </tr>\n",
       "    <tr>\n",
       "      <th>4</th>\n",
       "      <td>[user, great, stuff, fri, sxsw, marissa, mayer...</td>\n",
       "      <td>Google</td>\n",
       "      <td>Positive emotion</td>\n",
       "      <td>Google</td>\n",
       "    </tr>\n",
       "  </tbody>\n",
       "</table>\n",
       "</div>"
      ],
      "text/plain": [
       "                                          tweet_text           recipient  \\\n",
       "0  [user, 3g, iphone, 3, hrs, tweeting, riseausti...              iPhone   \n",
       "1  [user, know, user, awesome, ipadiphone, app, l...  iPad or iPhone App   \n",
       "2            [user, wait, ipad, 2, also, sale, sxsw]                iPad   \n",
       "3  [user, hope, years, festival, crashy, years, i...  iPad or iPhone App   \n",
       "4  [user, great, stuff, fri, sxsw, marissa, mayer...              Google   \n",
       "\n",
       "            emotion   brand  \n",
       "0  Negative emotion   Apple  \n",
       "1  Positive emotion   Apple  \n",
       "2  Positive emotion   Apple  \n",
       "3  Negative emotion   Apple  \n",
       "4  Positive emotion  Google  "
      ]
     },
     "execution_count": 52,
     "metadata": {},
     "output_type": "execute_result"
    }
   ],
   "source": [
    "# re-tokenizing the data\n",
    "data['tweet_text'] = data['tweet_text'].apply(tokenize_text)\n",
    "data.head()"
   ]
  },
  {
   "cell_type": "code",
   "execution_count": 53,
   "metadata": {},
   "outputs": [
    {
     "data": {
      "text/plain": [
       "['user', 'wait', 'ipad', '2', 'also', 'sale', 'sxsw']"
      ]
     },
     "execution_count": 53,
     "metadata": {},
     "output_type": "execute_result"
    }
   ],
   "source": [
    "# Access the third tweet_text in the data DataFrame\n",
    "data.tweet_text[2]\n"
   ]
  },
  {
   "attachments": {},
   "cell_type": "markdown",
   "metadata": {},
   "source": [
    "I retokinized since after removing the stopwords the tweets were  no longer split as strings."
   ]
  },
  {
   "attachments": {},
   "cell_type": "markdown",
   "metadata": {},
   "source": [
    "### Frequency Distribution after Removing Stopwords"
   ]
  },
  {
   "cell_type": "code",
   "execution_count": 54,
   "metadata": {},
   "outputs": [
    {
     "data": {
      "image/png": "[encoded data removed]",
      "text/plain": [
       "<Figure size 864x432 with 1 Axes>"
      ]
     },
     "metadata": {
      "needs_background": "light"
     },
     "output_type": "display_data"
    }
   ],
   "source": [
    "tweet_texts = data.tweet_text\n",
    "# Flatten the list of tokens into a single list\n",
    "all_tokens = [tweet for sublist in tweet_texts for tweet in sublist]\n",
    "\n",
    "# Create the frequency distribution\n",
    "freq_dist = FreqDist(all_tokens)\n",
    "\n",
    "# Get the most common words\n",
    "most_common = freq_dist.most_common(20)  # Example: Top 20 most common words\n",
    "\n",
    "# Extract the words and frequencies\n",
    "words, frequencies = zip(*most_common)\n",
    "\n",
    "# Create a bar plot\n",
    "plt.figure(figsize=(12, 6))\n",
    "plt.bar(words, frequencies)\n",
    "plt.xlabel('Words')\n",
    "plt.ylabel('Frequency')\n",
    "plt.title('Frequency Distribution of Words')\n",
    "plt.xticks(rotation=45)\n",
    "plt.show()"
   ]
  },
  {
   "attachments": {},
   "cell_type": "markdown",
   "metadata": {},
   "source": [
    "From the graph above I concluded that there is a high occurence of\n",
    "\n",
    "* Venue **(south by south west)** specific words such as ```sxsw```\n",
    "\n",
    "* Twitter specific words(**re-tweet** such as ```rt```\n",
    "\n",
    "* Brand or product specific words such as ```iphone```\n",
    "\n",
    "These words probably occur across  various sentiments and may not necessarily add any meaning, unless a majority of their occurence is associated with a particular emotion"
   ]
  },
  {
   "attachments": {},
   "cell_type": "markdown",
   "metadata": {},
   "source": [
    "### Lemmatization"
   ]
  },
  {
   "cell_type": "code",
   "execution_count": 55,
   "metadata": {},
   "outputs": [],
   "source": [
    "# lemmatization - example cats - cat\n",
    "# Create Lemmatizer instance\n",
    "word_lem = WordNetLemmatizer()\n",
    "\n",
    "#  Define a function to lemmatize words in a tweet\n",
    "def lem_words(tweet):\n",
    "    return [word_lem.lemmatize(word) for word in tweet]"
   ]
  },
  {
   "cell_type": "code",
   "execution_count": 56,
   "metadata": {},
   "outputs": [
    {
     "data": {
      "text/plain": [
       "0    [user, 3g, iphone, 3, hr, tweeting, riseaustin...\n",
       "1    [user, know, user, awesome, ipadiphone, app, l...\n",
       "2              [user, wait, ipad, 2, also, sale, sxsw]\n",
       "3    [user, hope, year, festival, crashy, year, iph...\n",
       "4    [user, great, stuff, fri, sxsw, marissa, mayer...\n",
       "Name: tweet_text, dtype: object"
      ]
     },
     "execution_count": 56,
     "metadata": {},
     "output_type": "execute_result"
    }
   ],
   "source": [
    "# Apply the lem_words function to the 'tweet_text' column\n",
    "data['tweet_text'] = data['tweet_text'].apply(lem_words)\n",
    "\n",
    "# Display the first few rows of the 'tweet_text' column after lemmatization\n",
    "data['tweet_text'].head()\n"
   ]
  },
  {
   "cell_type": "code",
   "execution_count": 57,
   "metadata": {},
   "outputs": [
    {
     "data": {
      "text/html": [
       "<div>\n",
       "<style scoped>\n",
       "    .dataframe tbody tr th:only-of-type {\n",
       "        vertical-align: middle;\n",
       "    }\n",
       "\n",
       "    .dataframe tbody tr th {\n",
       "        vertical-align: top;\n",
       "    }\n",
       "\n",
       "    .dataframe thead th {\n",
       "        text-align: right;\n",
       "    }\n",
       "</style>\n",
       "<table border=\"1\" class=\"dataframe\">\n",
       "  <thead>\n",
       "    <tr style=\"text-align: right;\">\n",
       "      <th></th>\n",
       "      <th>tweet_text</th>\n",
       "      <th>recipient</th>\n",
       "      <th>emotion</th>\n",
       "      <th>brand</th>\n",
       "    </tr>\n",
       "  </thead>\n",
       "  <tbody>\n",
       "    <tr>\n",
       "      <th>0</th>\n",
       "      <td>[user, 3g, iphone, 3, hr, tweeting, riseaustin...</td>\n",
       "      <td>iPhone</td>\n",
       "      <td>Negative emotion</td>\n",
       "      <td>Apple</td>\n",
       "    </tr>\n",
       "    <tr>\n",
       "      <th>1</th>\n",
       "      <td>[user, know, user, awesome, ipadiphone, app, l...</td>\n",
       "      <td>iPad or iPhone App</td>\n",
       "      <td>Positive emotion</td>\n",
       "      <td>Apple</td>\n",
       "    </tr>\n",
       "    <tr>\n",
       "      <th>2</th>\n",
       "      <td>[user, wait, ipad, 2, also, sale, sxsw]</td>\n",
       "      <td>iPad</td>\n",
       "      <td>Positive emotion</td>\n",
       "      <td>Apple</td>\n",
       "    </tr>\n",
       "    <tr>\n",
       "      <th>3</th>\n",
       "      <td>[user, hope, year, festival, crashy, year, iph...</td>\n",
       "      <td>iPad or iPhone App</td>\n",
       "      <td>Negative emotion</td>\n",
       "      <td>Apple</td>\n",
       "    </tr>\n",
       "    <tr>\n",
       "      <th>4</th>\n",
       "      <td>[user, great, stuff, fri, sxsw, marissa, mayer...</td>\n",
       "      <td>Google</td>\n",
       "      <td>Positive emotion</td>\n",
       "      <td>Google</td>\n",
       "    </tr>\n",
       "  </tbody>\n",
       "</table>\n",
       "</div>"
      ],
      "text/plain": [
       "                                          tweet_text           recipient  \\\n",
       "0  [user, 3g, iphone, 3, hr, tweeting, riseaustin...              iPhone   \n",
       "1  [user, know, user, awesome, ipadiphone, app, l...  iPad or iPhone App   \n",
       "2            [user, wait, ipad, 2, also, sale, sxsw]                iPad   \n",
       "3  [user, hope, year, festival, crashy, year, iph...  iPad or iPhone App   \n",
       "4  [user, great, stuff, fri, sxsw, marissa, mayer...              Google   \n",
       "\n",
       "            emotion   brand  \n",
       "0  Negative emotion   Apple  \n",
       "1  Positive emotion   Apple  \n",
       "2  Positive emotion   Apple  \n",
       "3  Negative emotion   Apple  \n",
       "4  Positive emotion  Google  "
      ]
     },
     "execution_count": 57,
     "metadata": {},
     "output_type": "execute_result"
    }
   ],
   "source": [
    "# Displaying the updated Dataframe\n",
    "data.head()"
   ]
  },
  {
   "attachments": {},
   "cell_type": "markdown",
   "metadata": {},
   "source": [
    "### Removing the Emojis\n",
    "\n",
    "Created a function that replaces emojis in tweet text with their corresponding meanings."
   ]
  },
  {
   "cell_type": "code",
   "execution_count": 58,
   "metadata": {},
   "outputs": [],
   "source": [
    "# Defining dictionary containing all emojis with their meanings.\n",
    "\n",
    "emojis = {':)': 'smile', ':-)': 'smile', ';d': 'wink', ':-E': 'vampire', ':(': 'sad', \n",
    "          ':-(': 'sad', ':-<': 'sad', ':P': 'raspberry', ':O': 'surprised',\n",
    "          ':-@': 'shocked', ':@': 'shocked',':-$': 'confused', ':\\\\': 'annoyed', \n",
    "          ':#': 'mute', ':X': 'mute', ':^)': 'smile', ':-&': 'confused', '$_$': 'greedy',\n",
    "          '@@': 'eyeroll', ':-!': 'confused', ':-D': 'smile', ':-0': 'yell', 'O.o': 'confused',\n",
    "          '<(-_-)>': 'robot', 'd[-_-]b': 'dj', \":'-)\": 'sadsmile', ';)': 'wink', \n",
    "          ';-)': 'wink', 'O:-)': 'angel','O*-)': 'angel','(:-D': 'gossip', '=^.^=': 'cat'}"
   ]
  },
  {
   "cell_type": "code",
   "execution_count": 59,
   "metadata": {},
   "outputs": [],
   "source": [
    "# Defined a function to remove emojis and sequence of letters like heeeey)\n",
    "def process(tweets):\n",
    "    \n",
    "    processed_tweet = []\n",
    "    \n",
    "    \n",
    "    # Defining regex patterns.\n",
    "    \n",
    "    sequencePattern   = r\"(.)\\1\\1+\" #matches three or more consecutive occurrences of the same character.\n",
    "    seqReplacePattern = r\"\\1\\1\"\n",
    "    \n",
    "    for tweet in tweets:\n",
    "        \n",
    "        # Replace all emojis.\n",
    "        for emoji in emojis.keys():\n",
    "            tweet = tweet.replace(emoji, \"EMOJI\" + emojis[emoji])              \n",
    "            # Replace 3 or more consecutive letters by 2 letter.\n",
    "            tweet = re.sub(sequencePattern, seqReplacePattern, tweet)\n",
    "        \n",
    "        processed_tweet.append(tweet)\n",
    "        \n",
    "    return processed_tweet"
   ]
  },
  {
   "cell_type": "code",
   "execution_count": 60,
   "metadata": {},
   "outputs": [
    {
     "data": {
      "text/html": [
       "<div>\n",
       "<style scoped>\n",
       "    .dataframe tbody tr th:only-of-type {\n",
       "        vertical-align: middle;\n",
       "    }\n",
       "\n",
       "    .dataframe tbody tr th {\n",
       "        vertical-align: top;\n",
       "    }\n",
       "\n",
       "    .dataframe thead th {\n",
       "        text-align: right;\n",
       "    }\n",
       "</style>\n",
       "<table border=\"1\" class=\"dataframe\">\n",
       "  <thead>\n",
       "    <tr style=\"text-align: right;\">\n",
       "      <th></th>\n",
       "      <th>tweet_text</th>\n",
       "      <th>recipient</th>\n",
       "      <th>emotion</th>\n",
       "      <th>brand</th>\n",
       "    </tr>\n",
       "  </thead>\n",
       "  <tbody>\n",
       "    <tr>\n",
       "      <th>0</th>\n",
       "      <td>[user, 3g, iphone, 3, hr, tweeting, riseaustin...</td>\n",
       "      <td>iPhone</td>\n",
       "      <td>Negative emotion</td>\n",
       "      <td>Apple</td>\n",
       "    </tr>\n",
       "    <tr>\n",
       "      <th>1</th>\n",
       "      <td>[user, know, user, awesome, ipadiphone, app, l...</td>\n",
       "      <td>iPad or iPhone App</td>\n",
       "      <td>Positive emotion</td>\n",
       "      <td>Apple</td>\n",
       "    </tr>\n",
       "    <tr>\n",
       "      <th>2</th>\n",
       "      <td>[user, wait, ipad, 2, also, sale, sxsw]</td>\n",
       "      <td>iPad</td>\n",
       "      <td>Positive emotion</td>\n",
       "      <td>Apple</td>\n",
       "    </tr>\n",
       "    <tr>\n",
       "      <th>3</th>\n",
       "      <td>[user, hope, year, festival, crashy, year, iph...</td>\n",
       "      <td>iPad or iPhone App</td>\n",
       "      <td>Negative emotion</td>\n",
       "      <td>Apple</td>\n",
       "    </tr>\n",
       "    <tr>\n",
       "      <th>4</th>\n",
       "      <td>[user, great, stuff, fri, sxsw, marissa, mayer...</td>\n",
       "      <td>Google</td>\n",
       "      <td>Positive emotion</td>\n",
       "      <td>Google</td>\n",
       "    </tr>\n",
       "  </tbody>\n",
       "</table>\n",
       "</div>"
      ],
      "text/plain": [
       "                                          tweet_text           recipient  \\\n",
       "0  [user, 3g, iphone, 3, hr, tweeting, riseaustin...              iPhone   \n",
       "1  [user, know, user, awesome, ipadiphone, app, l...  iPad or iPhone App   \n",
       "2            [user, wait, ipad, 2, also, sale, sxsw]                iPad   \n",
       "3  [user, hope, year, festival, crashy, year, iph...  iPad or iPhone App   \n",
       "4  [user, great, stuff, fri, sxsw, marissa, mayer...              Google   \n",
       "\n",
       "            emotion   brand  \n",
       "0  Negative emotion   Apple  \n",
       "1  Positive emotion   Apple  \n",
       "2  Positive emotion   Apple  \n",
       "3  Negative emotion   Apple  \n",
       "4  Positive emotion  Google  "
      ]
     },
     "execution_count": 60,
     "metadata": {},
     "output_type": "execute_result"
    }
   ],
   "source": [
    "# Apply the process(tweet) function to the 'tweet_text' column\n",
    "data['tweet_text'] = data['tweet_text'].apply(process)\n",
    "# Display the updated DataFrame after removing emojis\n",
    "data.head()"
   ]
  },
  {
   "cell_type": "code",
   "execution_count": 63,
   "metadata": {},
   "outputs": [
    {
     "data": {
      "text/plain": [
       "['user', 'hope', 'year', 'festival', 'crashy', 'year', 'iphone', 'app', 'sxsw']"
      ]
     },
     "execution_count": 63,
     "metadata": {},
     "output_type": "execute_result"
    }
   ],
   "source": [
    "# Acessing the fourth  tweet_text in the data DataFrame\n",
    "data.tweet_text[3]\n"
   ]
  },
  {
   "attachments": {},
   "cell_type": "markdown",
   "metadata": {},
   "source": [
    "### vectorization\n",
    "#### CountVectorization\n",
    "\n"
   ]
  },
  {
   "cell_type": "code",
   "execution_count": 66,
   "metadata": {},
   "outputs": [],
   "source": [
    "# create instance 1 vectorizer\n",
    "bow = CountVectorizer()\n",
    "#create lemmatized_review column \n",
    "data['lemmatized_review'] = data['tweet_text'].str.join(\" \")\n",
    "x = bow.fit_transform(data['lemmatized_review'])"
   ]
  },
  {
   "cell_type": "code",
   "execution_count": 68,
   "metadata": {},
   "outputs": [
    {
     "data": {
      "text/plain": [
       "['02',\n",
       " '03',\n",
       " '0310',\n",
       " '0310apple',\n",
       " '0311',\n",
       " '031211',\n",
       " '031311',\n",
       " '031411',\n",
       " '031511',\n",
       " '0610',\n",
       " '10',\n",
       " '100',\n",
       " '100tc',\n",
       " '101',\n",
       " '1030',\n",
       " '103011p',\n",
       " '1045am3',\n",
       " '105',\n",
       " '105hrs',\n",
       " '106',\n",
       " '10am',\n",
       " '10k',\n",
       " '10mins',\n",
       " '10pm',\n",
       " '10x',\n",
       " '10x2',\n",
       " '11',\n",
       " '1100',\n",
       " '1100am',\n",
       " '1120',\n",
       " '1130',\n",
       " '115',\n",
       " '1154',\n",
       " '11am',\n",
       " '11bil',\n",
       " '11m',\n",
       " '11ntc',\n",
       " '11pm',\n",
       " '11quot',\n",
       " '11th',\n",
       " '12',\n",
       " '120',\n",
       " '120035959p',\n",
       " '1201am',\n",
       " '1223',\n",
       " '1230',\n",
       " '1230p',\n",
       " '1230pm',\n",
       " '1230pmpart',\n",
       " '1240',\n",
       " '125',\n",
       " '128',\n",
       " '12ab',\n",
       " '12am',\n",
       " '12b',\n",
       " '12bn',\n",
       " '12th',\n",
       " '13',\n",
       " '1300',\n",
       " '130230pm',\n",
       " '1315',\n",
       " '136',\n",
       " '13quot',\n",
       " '14',\n",
       " '1406',\n",
       " '140608',\n",
       " '14061408',\n",
       " '1413',\n",
       " '1415',\n",
       " '141st',\n",
       " '1422',\n",
       " '1443',\n",
       " '14day',\n",
       " '14th',\n",
       " '15',\n",
       " '150',\n",
       " '1500',\n",
       " '150m',\n",
       " '150mm',\n",
       " '157',\n",
       " '159',\n",
       " '15k',\n",
       " '15slides',\n",
       " '15to1',\n",
       " '16',\n",
       " '16162',\n",
       " '165',\n",
       " '169',\n",
       " '16gb',\n",
       " '16mins',\n",
       " '17',\n",
       " '175',\n",
       " '18',\n",
       " '1850',\n",
       " '188',\n",
       " '19',\n",
       " '1980s',\n",
       " '1985',\n",
       " '1986',\n",
       " '1986quot',\n",
       " '1986quotuser',\n",
       " '1990style',\n",
       " '1991',\n",
       " '1amp2',\n",
       " '1k',\n",
       " '1m',\n",
       " '1of',\n",
       " '1pm',\n",
       " '1st',\n",
       " '20',\n",
       " '200',\n",
       " '2009',\n",
       " '200m',\n",
       " '2010',\n",
       " '2011',\n",
       " '2011quot',\n",
       " '2012345',\n",
       " '206',\n",
       " '20hour',\n",
       " '21',\n",
       " '210',\n",
       " '2100',\n",
       " '214',\n",
       " '215',\n",
       " '215pm',\n",
       " '22',\n",
       " '220',\n",
       " '22song',\n",
       " '22sxsw',\n",
       " '23',\n",
       " '230',\n",
       " '23track',\n",
       " '24',\n",
       " '2430ready',\n",
       " '245',\n",
       " '24587',\n",
       " '247',\n",
       " '25',\n",
       " '250',\n",
       " '2500',\n",
       " '250k',\n",
       " '25th',\n",
       " '268',\n",
       " '270',\n",
       " '27quot',\n",
       " '285',\n",
       " '29',\n",
       " '2am',\n",
       " '2b',\n",
       " '2bannounced',\n",
       " '2day',\n",
       " '2g',\n",
       " '2h',\n",
       " '2honor',\n",
       " '2ipad',\n",
       " '2moro',\n",
       " '2nd',\n",
       " '2nite',\n",
       " '2quot',\n",
       " '2quotuser',\n",
       " '2rd',\n",
       " '2seems',\n",
       " '2squot',\n",
       " '2user',\n",
       " '2week',\n",
       " '2wk',\n",
       " '2wks',\n",
       " '2x',\n",
       " '2years',\n",
       " '2yrs',\n",
       " '2åêtechcrunch',\n",
       " '30',\n",
       " '300',\n",
       " '3045',\n",
       " '30k',\n",
       " '30min',\n",
       " '30mio',\n",
       " '30th',\n",
       " '31',\n",
       " '31011',\n",
       " '3102011',\n",
       " '310409h2011',\n",
       " '311',\n",
       " '312',\n",
       " '31211',\n",
       " '313',\n",
       " '314',\n",
       " '315',\n",
       " '31511',\n",
       " '316',\n",
       " '317',\n",
       " '318',\n",
       " '319',\n",
       " '32',\n",
       " '320',\n",
       " '3200',\n",
       " '322',\n",
       " '32g',\n",
       " '32gb',\n",
       " '33',\n",
       " '330',\n",
       " '330pm',\n",
       " '339',\n",
       " '34',\n",
       " '345',\n",
       " '35',\n",
       " '350',\n",
       " '35hour',\n",
       " '36',\n",
       " '360',\n",
       " '360idev',\n",
       " '365plusmedia',\n",
       " '37',\n",
       " '38',\n",
       " '39',\n",
       " '3am',\n",
       " '3bil',\n",
       " '3blks',\n",
       " '3block',\n",
       " '3d',\n",
       " '3g',\n",
       " '3gs',\n",
       " '3k',\n",
       " '3pm',\n",
       " '3rd',\n",
       " '3rdstore',\n",
       " '3x',\n",
       " '40',\n",
       " '400',\n",
       " '40075959p',\n",
       " '40min',\n",
       " '41',\n",
       " '420',\n",
       " '43',\n",
       " '430',\n",
       " '437',\n",
       " '44',\n",
       " '445pm',\n",
       " '45',\n",
       " '450',\n",
       " '459pm',\n",
       " '45bil',\n",
       " '47',\n",
       " '48',\n",
       " '499',\n",
       " '4am',\n",
       " '4android',\n",
       " '4chan',\n",
       " '4chan4eva',\n",
       " '4chans',\n",
       " '4g',\n",
       " '4hb',\n",
       " '4hour',\n",
       " '4pm',\n",
       " '4sq',\n",
       " '4sq3',\n",
       " '4sqchat',\n",
       " '4sqs',\n",
       " '4square',\n",
       " '4squarequot',\n",
       " '4sqwill',\n",
       " '4th',\n",
       " '4this',\n",
       " '4year',\n",
       " '50',\n",
       " '500',\n",
       " '500squarefoot',\n",
       " '504',\n",
       " '506',\n",
       " '5060',\n",
       " '510',\n",
       " '512',\n",
       " '5124578800',\n",
       " '515am',\n",
       " '52',\n",
       " '522',\n",
       " '530',\n",
       " '54',\n",
       " '55',\n",
       " '56quot',\n",
       " '57',\n",
       " '58967',\n",
       " '58pm',\n",
       " '59',\n",
       " '59p',\n",
       " '5am',\n",
       " '5min',\n",
       " '5pm',\n",
       " '5th',\n",
       " '60',\n",
       " '600',\n",
       " '605',\n",
       " '60secondcrush',\n",
       " '615ab',\n",
       " '62',\n",
       " '625',\n",
       " '63',\n",
       " '630am',\n",
       " '64',\n",
       " '645',\n",
       " '64g',\n",
       " '64gb',\n",
       " '64gig',\n",
       " '64mb',\n",
       " '65',\n",
       " '654',\n",
       " '65quot',\n",
       " '667',\n",
       " '68100',\n",
       " '68p',\n",
       " '69',\n",
       " '699',\n",
       " '6hours',\n",
       " '6pm',\n",
       " '6quot',\n",
       " '6th',\n",
       " '6thcongress',\n",
       " '6thish',\n",
       " '6thst',\n",
       " '6thstreet',\n",
       " '70',\n",
       " '700',\n",
       " '700pm',\n",
       " '710',\n",
       " '720',\n",
       " '7200',\n",
       " '73',\n",
       " '7322',\n",
       " '75',\n",
       " '7580',\n",
       " '779',\n",
       " '78',\n",
       " '7mo',\n",
       " '7pm',\n",
       " '7quot',\n",
       " '7th',\n",
       " '80',\n",
       " '800',\n",
       " '800115959a',\n",
       " '800115959p',\n",
       " '80sthemed',\n",
       " '81',\n",
       " '812',\n",
       " '82',\n",
       " '829',\n",
       " '85',\n",
       " '86',\n",
       " '88',\n",
       " '89',\n",
       " '8a',\n",
       " '8am',\n",
       " '8bit',\n",
       " '8pm',\n",
       " '8th',\n",
       " '90',\n",
       " '900',\n",
       " '9099',\n",
       " '911',\n",
       " '911tweets',\n",
       " '914',\n",
       " '915',\n",
       " '930',\n",
       " '930a',\n",
       " '935',\n",
       " '95',\n",
       " '950',\n",
       " '96',\n",
       " '97',\n",
       " '98',\n",
       " '985',\n",
       " '99',\n",
       " '99cent',\n",
       " '99å',\n",
       " '9abc',\n",
       " '9th',\n",
       " '9to5',\n",
       " 'a11y2go',\n",
       " 'aapl',\n",
       " 'aaron',\n",
       " 'ab',\n",
       " 'abacus',\n",
       " 'abandoned',\n",
       " 'abba',\n",
       " 'aber',\n",
       " 'ability',\n",
       " 'able',\n",
       " 'abnormal',\n",
       " 'abound',\n",
       " 'aboutto',\n",
       " 'abroad',\n",
       " 'absolute',\n",
       " 'absolutely',\n",
       " 'absolutley',\n",
       " 'abuzz',\n",
       " 'academy',\n",
       " 'acc',\n",
       " 'accelerater',\n",
       " 'acceleration',\n",
       " 'accelerator',\n",
       " 'accept',\n",
       " 'acceptable',\n",
       " 'access',\n",
       " 'accessibility',\n",
       " 'accessible',\n",
       " 'accessory',\n",
       " 'accessxsw',\n",
       " 'accidentally',\n",
       " 'accommodate',\n",
       " 'accompanied',\n",
       " 'accomplish',\n",
       " 'according',\n",
       " 'accordion',\n",
       " 'account',\n",
       " 'accuracy',\n",
       " 'acerbic',\n",
       " 'achieve',\n",
       " 'achievement',\n",
       " 'acknowledge',\n",
       " 'ackward',\n",
       " 'aclu',\n",
       " 'acludo',\n",
       " 'aclugoogle',\n",
       " 'aclus',\n",
       " 'acoustic',\n",
       " 'acquired',\n",
       " 'acquisition',\n",
       " 'across',\n",
       " 'acrosse',\n",
       " 'act',\n",
       " 'acting',\n",
       " 'action',\n",
       " 'actionable',\n",
       " 'actionquot',\n",
       " 'activate',\n",
       " 'activation',\n",
       " 'activity',\n",
       " 'actor',\n",
       " 'actsofsharingcom',\n",
       " 'actual',\n",
       " 'actually',\n",
       " 'ad',\n",
       " 'adam',\n",
       " 'adapt',\n",
       " 'adapter',\n",
       " 'adapting',\n",
       " 'adaptive',\n",
       " 'add',\n",
       " 'added',\n",
       " 'addict',\n",
       " 'addictedtotheinterwebs',\n",
       " 'addiction',\n",
       " 'addictive',\n",
       " 'adding',\n",
       " 'addition',\n",
       " 'additional',\n",
       " 'addr',\n",
       " 'address',\n",
       " 'adelefiona',\n",
       " 'adfonic',\n",
       " 'adi',\n",
       " 'adloopz',\n",
       " 'admired',\n",
       " 'admission',\n",
       " 'admit',\n",
       " 'admits',\n",
       " 'admitting',\n",
       " 'admob',\n",
       " 'ado',\n",
       " 'adobe',\n",
       " 'adopter',\n",
       " 'adoption',\n",
       " 'adpeopleproblems',\n",
       " 'advance',\n",
       " 'advanced',\n",
       " 'advantage',\n",
       " 'advent',\n",
       " 'adventure',\n",
       " 'advertising',\n",
       " 'advertisingcheckins',\n",
       " 'advice',\n",
       " 'advil',\n",
       " 'advising',\n",
       " 'advisory',\n",
       " 'advocate',\n",
       " 'adwords',\n",
       " 'ae',\n",
       " 'afar',\n",
       " 'affair',\n",
       " 'affect',\n",
       " 'affiliated',\n",
       " 'affirmative',\n",
       " 'afford',\n",
       " 'afraid',\n",
       " 'africa',\n",
       " 'african',\n",
       " 'afternoon',\n",
       " 'afteward',\n",
       " 'aftrnoon',\n",
       " 'againquot',\n",
       " 'agchat',\n",
       " 'agchatsxsw',\n",
       " 'age',\n",
       " 'agency',\n",
       " 'agenda',\n",
       " 'agent',\n",
       " 'aggregated',\n",
       " 'aggregator',\n",
       " 'agileagency',\n",
       " 'agility',\n",
       " 'agnerd',\n",
       " 'ago',\n",
       " 'agoa',\n",
       " 'agoquot',\n",
       " 'agree',\n",
       " 'agreed',\n",
       " 'ah',\n",
       " 'aha',\n",
       " 'ahead',\n",
       " 'ahem',\n",
       " 'ahh',\n",
       " 'ahi',\n",
       " 'ahing',\n",
       " 'ahold',\n",
       " 'ahoy',\n",
       " 'ai',\n",
       " 'aicn',\n",
       " 'aiding',\n",
       " 'aight',\n",
       " 'aim',\n",
       " 'air',\n",
       " 'airline',\n",
       " 'airplane',\n",
       " 'airport',\n",
       " 'aisle',\n",
       " 'ajax',\n",
       " 'ajaxquot',\n",
       " 'aka',\n",
       " 'akabuzz',\n",
       " 'akhirnya',\n",
       " 'akqa',\n",
       " 'akqas',\n",
       " 'al',\n",
       " 'ala',\n",
       " 'alacagimiz',\n",
       " 'alamo',\n",
       " 'alan',\n",
       " 'alarm',\n",
       " 'albany',\n",
       " 'album',\n",
       " 'alcohol',\n",
       " 'alcoholic',\n",
       " 'alert',\n",
       " 'alex',\n",
       " 'algorithm',\n",
       " 'alguien',\n",
       " 'alice',\n",
       " 'alien',\n",
       " 'alignd',\n",
       " 'aligned',\n",
       " 'alisa',\n",
       " 'alive',\n",
       " 'allbutconfirmed',\n",
       " 'allcomfortfooddiet',\n",
       " 'allen',\n",
       " 'alley',\n",
       " 'allhat',\n",
       " 'allhat3',\n",
       " 'allow',\n",
       " 'allowing',\n",
       " 'allows',\n",
       " 'allshare',\n",
       " 'allthingsd',\n",
       " 'almedia',\n",
       " 'almost',\n",
       " 'alone',\n",
       " 'along',\n",
       " 'alot',\n",
       " 'alpha',\n",
       " 'alphabetically',\n",
       " 'alphagraphics',\n",
       " 'already',\n",
       " 'alreadydwindling',\n",
       " 'alright',\n",
       " 'also',\n",
       " 'alt',\n",
       " 'alternate',\n",
       " 'alternative',\n",
       " 'although',\n",
       " 'altimeter',\n",
       " 'alto',\n",
       " 'alumnus',\n",
       " 'always',\n",
       " 'alwayshavingtoplugin',\n",
       " 'amalgamation',\n",
       " 'amateurhour',\n",
       " 'amazes',\n",
       " 'amazing',\n",
       " 'amazingly',\n",
       " 'amazingquot',\n",
       " 'amazon',\n",
       " 'amazonsxsw',\n",
       " 'ambassador',\n",
       " 'amble',\n",
       " 'amen',\n",
       " 'amer',\n",
       " 'america',\n",
       " 'american',\n",
       " 'americanstatesman',\n",
       " 'americaquot',\n",
       " 'amex',\n",
       " 'amhealth',\n",
       " 'ami',\n",
       " 'amid',\n",
       " 'amigo',\n",
       " 'amismarternow',\n",
       " 'amiss',\n",
       " 'among',\n",
       " 'amoral',\n",
       " 'amount',\n",
       " 'amp',\n",
       " 'ampapple',\n",
       " 'ampipad',\n",
       " 'ampipad2',\n",
       " 'ample',\n",
       " 'amplifiedlife',\n",
       " 'ampsocial',\n",
       " 'amthey',\n",
       " 'amused',\n",
       " 'amusing',\n",
       " 'amy',\n",
       " 'amys',\n",
       " 'an',\n",
       " 'analog',\n",
       " 'analogy',\n",
       " 'analysis',\n",
       " 'analytics',\n",
       " 'analyticsexcelbuzzmetrics',\n",
       " 'analyticsquot',\n",
       " 'anatomy',\n",
       " 'andoid',\n",
       " 'andor',\n",
       " 'andrew',\n",
       " 'andriod',\n",
       " 'andro',\n",
       " 'android',\n",
       " 'androidchrome',\n",
       " 'androidchromeos',\n",
       " 'androidcrunch',\n",
       " 'androiddev',\n",
       " 'androidiphone',\n",
       " 'androidquot',\n",
       " 'androidsxsw',\n",
       " 'andronerds',\n",
       " 'andy',\n",
       " 'angel',\n",
       " 'angry',\n",
       " 'angrybirds',\n",
       " 'animated',\n",
       " 'animation',\n",
       " 'anna',\n",
       " 'announce',\n",
       " 'announced',\n",
       " 'announcement',\n",
       " 'announcementsquot',\n",
       " 'announces',\n",
       " 'announcing',\n",
       " 'annoyed',\n",
       " 'annoying',\n",
       " 'annuncia',\n",
       " 'anonymity',\n",
       " 'anonymous',\n",
       " 'anoth',\n",
       " 'another',\n",
       " 'answer',\n",
       " 'answered',\n",
       " 'answering',\n",
       " 'answr',\n",
       " 'anti',\n",
       " 'antiapple',\n",
       " 'anticipate',\n",
       " 'anticipation',\n",
       " 'antigov',\n",
       " 'antique',\n",
       " 'antischizophrenic',\n",
       " 'antisocial',\n",
       " 'antitheft',\n",
       " 'antonio',\n",
       " 'antwoord',\n",
       " 'anxious',\n",
       " 'anybody',\n",
       " 'anybodywanttobuymeanipad2',\n",
       " 'anymore',\n",
       " 'anyone',\n",
       " 'anyones',\n",
       " 'anything',\n",
       " 'anyway',\n",
       " 'anywaysquot',\n",
       " 'anywhere',\n",
       " 'anywhereuntil',\n",
       " 'anz',\n",
       " 'aol',\n",
       " 'aos',\n",
       " 'ap',\n",
       " 'apaan',\n",
       " 'apac',\n",
       " 'apart',\n",
       " 'apartment',\n",
       " 'apartmovie',\n",
       " 'ape',\n",
       " 'aphone',\n",
       " 'api',\n",
       " 'apid',\n",
       " 'apis',\n",
       " 'apology',\n",
       " 'app',\n",
       " 'app11',\n",
       " 'apparent',\n",
       " 'apparently',\n",
       " 'appbased',\n",
       " 'appcircus',\n",
       " 'appdownloading',\n",
       " 'appeal',\n",
       " 'appealing',\n",
       " 'appear',\n",
       " 'appearance',\n",
       " 'appeared',\n",
       " 'appears',\n",
       " 'appit',\n",
       " 'applauds',\n",
       " 'applause',\n",
       " 'apple',\n",
       " 'apple2',\n",
       " 'appleaddiction',\n",
       " 'appleapple',\n",
       " 'appleatxdt',\n",
       " 'applebreeds',\n",
       " 'applecom',\n",
       " 'appled',\n",
       " 'appleduh',\n",
       " 'applefanatic',\n",
       " 'applefanboyism',\n",
       " 'applegoogle',\n",
       " 'applemartinlike',\n",
       " 'applemicrosoft',\n",
       " 'applequot',\n",
       " 'applequotthe',\n",
       " 'applestore',\n",
       " 'applesxsw',\n",
       " 'appletakingoverworld',\n",
       " 'appletogo',\n",
       " 'appletore',\n",
       " 'application',\n",
       " 'applicationquot',\n",
       " 'applies',\n",
       " 'applink',\n",
       " 'apply',\n",
       " 'applying',\n",
       " 'appointment',\n",
       " 'appolicious',\n",
       " 'appquot',\n",
       " 'appreciate',\n",
       " 'appreciated',\n",
       " 'appreciation',\n",
       " 'approach',\n",
       " 'approaching',\n",
       " 'appropriate',\n",
       " 'appropriately',\n",
       " 'approval',\n",
       " 'approved',\n",
       " 'approves',\n",
       " 'apps',\n",
       " 'appsand',\n",
       " 'appsavvy',\n",
       " 'appstore',\n",
       " 'apptastic',\n",
       " 'apptrophy',\n",
       " 'appy',\n",
       " 'apraxia',\n",
       " 'aproveitem',\n",
       " 'aps',\n",
       " 'aptquot',\n",
       " 'apture',\n",
       " 'aquent',\n",
       " 'ar',\n",
       " 'arab',\n",
       " 'arabspring',\n",
       " 'arboretum',\n",
       " 'arcade',\n",
       " 'archforhumanity',\n",
       " 'archive',\n",
       " 'arctic',\n",
       " 'arduino',\n",
       " 'area',\n",
       " 'arg',\n",
       " 'argh',\n",
       " 'argon',\n",
       " 'argues',\n",
       " 'argument',\n",
       " 'aristotle',\n",
       " 'arm',\n",
       " 'armadillo',\n",
       " 'armed',\n",
       " 'aron',\n",
       " 'around',\n",
       " 'aroundquot',\n",
       " 'arrested',\n",
       " 'arrive',\n",
       " 'arrived',\n",
       " 'arrives',\n",
       " 'arriving',\n",
       " 'arrivo',\n",
       " 'arrowquot',\n",
       " 'arsenal',\n",
       " 'arsense',\n",
       " 'arsxsw',\n",
       " 'art',\n",
       " 'artallaround',\n",
       " 'arthaus',\n",
       " 'article',\n",
       " 'articlegoogle',\n",
       " 'articulate',\n",
       " 'articulating',\n",
       " 'artifact',\n",
       " 'artificial',\n",
       " 'artikelen',\n",
       " 'artist',\n",
       " 'artistic',\n",
       " 'artistsmusicians',\n",
       " 'artistsquot',\n",
       " 'artwork',\n",
       " 'arw',\n",
       " 'arwords',\n",
       " 'as',\n",
       " 'asd',\n",
       " 'asddieu',\n",
       " 'ask',\n",
       " 'askd',\n",
       " 'asked',\n",
       " 'asking',\n",
       " 'askreceive',\n",
       " 'asks',\n",
       " 'asleep',\n",
       " 'aspengrove',\n",
       " 'ass',\n",
       " 'asserted',\n",
       " 'asset',\n",
       " 'assignment',\n",
       " 'assistant',\n",
       " 'assistedquot',\n",
       " 'assistedquotsxsw',\n",
       " 'assistivetech',\n",
       " 'asst',\n",
       " 'assume',\n",
       " 'assumes',\n",
       " 'at038t',\n",
       " 'atampt',\n",
       " 'atari',\n",
       " 'ate',\n",
       " 'atl',\n",
       " 'atlantic',\n",
       " 'atleast',\n",
       " 'atm',\n",
       " 'atomic',\n",
       " 'atrix',\n",
       " 'att',\n",
       " 'attached',\n",
       " 'attempt',\n",
       " 'attend',\n",
       " 'attendance',\n",
       " 'attended',\n",
       " 'attendee',\n",
       " 'attendeesyou',\n",
       " 'attendence',\n",
       " 'attending',\n",
       " 'attendong',\n",
       " 'attention',\n",
       " 'attitude',\n",
       " 'attn',\n",
       " 'attracted',\n",
       " 'attracting',\n",
       " 'attractive',\n",
       " 'attsxsw',\n",
       " 'attys',\n",
       " 'atv',\n",
       " 'atx',\n",
       " 'atzip',\n",
       " 'atåêsxsw',\n",
       " 'au',\n",
       " 'audi',\n",
       " 'audience',\n",
       " 'audio',\n",
       " 'audioboo',\n",
       " 'auerbach',\n",
       " 'aug',\n",
       " 'augcomm',\n",
       " 'augmented',\n",
       " 'augmentedreality',\n",
       " 'aun',\n",
       " 'aunty',\n",
       " 'aussie',\n",
       " 'austin',\n",
       " 'austinarea',\n",
       " 'austinbased',\n",
       " 'austinbergstrom',\n",
       " 'austinbound',\n",
       " 'austinbusiness',\n",
       " 'austincrowd',\n",
       " 'austinites',\n",
       " 'austinjs',\n",
       " 'austinl',\n",
       " 'austinquot',\n",
       " 'austintx',\n",
       " 'austinwins',\n",
       " 'australian',\n",
       " 'ausxsw',\n",
       " 'auth',\n",
       " 'authenticationdesign',\n",
       " 'authenticator',\n",
       " 'author',\n",
       " 'authority',\n",
       " 'authoritzed',\n",
       " 'authorization',\n",
       " 'autism',\n",
       " 'autistic',\n",
       " 'auto',\n",
       " 'autocorrect',\n",
       " 'autocorrected',\n",
       " 'autocorrects',\n",
       " 'autodial',\n",
       " 'autograph',\n",
       " 'automated',\n",
       " 'automatic',\n",
       " 'automatically',\n",
       " 'automation',\n",
       " 'autonomous',\n",
       " 'autumn',\n",
       " 'avail',\n",
       " 'availability',\n",
       " 'available',\n",
       " 'ave',\n",
       " 'avenue',\n",
       " 'average',\n",
       " 'avoid',\n",
       " 'avoided',\n",
       " 'avoiding',\n",
       " 'avro',\n",
       " 'aw',\n",
       " 'awaiting',\n",
       " 'awaits',\n",
       " 'awake',\n",
       " 'award',\n",
       " 'aware',\n",
       " 'awareness',\n",
       " 'away',\n",
       " 'awayquot',\n",
       " 'awe',\n",
       " 'awesome',\n",
       " 'awesomely',\n",
       " 'awesomeness',\n",
       " 'awesomesxsw',\n",
       " 'awesometiming',\n",
       " 'awhile',\n",
       " 'awkward',\n",
       " 'aww',\n",
       " 'axsure',\n",
       " 'azure',\n",
       " 'babalola',\n",
       " 'baby',\n",
       " 'babyheadphones',\n",
       " 'back',\n",
       " 'background',\n",
       " 'backinbusiness',\n",
       " 'backlight',\n",
       " 'backpack',\n",
       " 'backpacking',\n",
       " 'backpages',\n",
       " 'backquot',\n",
       " 'backup',\n",
       " 'backupify',\n",
       " 'backyard',\n",
       " 'bad',\n",
       " 'badass',\n",
       " 'badform',\n",
       " 'badge',\n",
       " 'badgeless',\n",
       " 'badgepicture',\n",
       " 'badger',\n",
       " 'bag',\n",
       " 'bagquot',\n",
       " 'bah',\n",
       " 'bahahahaha',\n",
       " 'bahrain',\n",
       " 'bail',\n",
       " 'bait',\n",
       " 'bajillions',\n",
       " 'balance',\n",
       " 'balckberries',\n",
       " 'balcony',\n",
       " 'ball',\n",
       " 'baller',\n",
       " ...]"
      ]
     },
     "execution_count": 68,
     "metadata": {},
     "output_type": "execute_result"
    }
   ],
   "source": [
    "#checking feature names\n",
    "feature_names = bow.get_feature_names()\n",
    "feature_names\n"
   ]
  },
  {
   "attachments": {},
   "cell_type": "markdown",
   "metadata": {},
   "source": [
    "## Feature Engineering"
   ]
  },
  {
   "attachments": {},
   "cell_type": "markdown",
   "metadata": {},
   "source": [
    "\n",
    "\n",
    "Here I label encoded the target feature to transform the values to numerical values."
   ]
  },
  {
   "cell_type": "code",
   "execution_count": 69,
   "metadata": {},
   "outputs": [
    {
     "data": {
      "text/plain": [
       "array([\"I can't tell\", 'Negative emotion',\n",
       "       'No emotion toward brand or product', 'Positive emotion'],\n",
       "      dtype=object)"
      ]
     },
     "execution_count": 69,
     "metadata": {},
     "output_type": "execute_result"
    }
   ],
   "source": [
    "# Instantiate labelencoder\n",
    "le = LabelEncoder() # initializing the lib\n",
    "#fit transform \n",
    "data['emotion_code'] = le.fit_transform(data.emotion)\n",
    "le.classes_ # viewing the classes"
   ]
  },
  {
   "cell_type": "code",
   "execution_count": 71,
   "metadata": {},
   "outputs": [
    {
     "data": {
      "text/html": [
       "<div>\n",
       "<style scoped>\n",
       "    .dataframe tbody tr th:only-of-type {\n",
       "        vertical-align: middle;\n",
       "    }\n",
       "\n",
       "    .dataframe tbody tr th {\n",
       "        vertical-align: top;\n",
       "    }\n",
       "\n",
       "    .dataframe thead th {\n",
       "        text-align: right;\n",
       "    }\n",
       "</style>\n",
       "<table border=\"1\" class=\"dataframe\">\n",
       "  <thead>\n",
       "    <tr style=\"text-align: right;\">\n",
       "      <th></th>\n",
       "      <th>tweet_text</th>\n",
       "      <th>recipient</th>\n",
       "      <th>emotion</th>\n",
       "      <th>brand</th>\n",
       "      <th>lemmatized_review</th>\n",
       "      <th>emotion_code</th>\n",
       "    </tr>\n",
       "  </thead>\n",
       "  <tbody>\n",
       "    <tr>\n",
       "      <th>0</th>\n",
       "      <td>[user, 3g, iphone, 3, hr, tweeting, riseaustin...</td>\n",
       "      <td>iPhone</td>\n",
       "      <td>Negative emotion</td>\n",
       "      <td>Apple</td>\n",
       "      <td>user 3g iphone 3 hr tweeting riseaustin dead n...</td>\n",
       "      <td>1</td>\n",
       "    </tr>\n",
       "    <tr>\n",
       "      <th>1</th>\n",
       "      <td>[user, know, user, awesome, ipadiphone, app, l...</td>\n",
       "      <td>iPad or iPhone App</td>\n",
       "      <td>Positive emotion</td>\n",
       "      <td>Apple</td>\n",
       "      <td>user know user awesome ipadiphone app likely a...</td>\n",
       "      <td>3</td>\n",
       "    </tr>\n",
       "    <tr>\n",
       "      <th>2</th>\n",
       "      <td>[user, wait, ipad, 2, also, sale, sxsw]</td>\n",
       "      <td>iPad</td>\n",
       "      <td>Positive emotion</td>\n",
       "      <td>Apple</td>\n",
       "      <td>user wait ipad 2 also sale sxsw</td>\n",
       "      <td>3</td>\n",
       "    </tr>\n",
       "    <tr>\n",
       "      <th>3</th>\n",
       "      <td>[user, hope, year, festival, crashy, year, iph...</td>\n",
       "      <td>iPad or iPhone App</td>\n",
       "      <td>Negative emotion</td>\n",
       "      <td>Apple</td>\n",
       "      <td>user hope year festival crashy year iphone app...</td>\n",
       "      <td>1</td>\n",
       "    </tr>\n",
       "    <tr>\n",
       "      <th>4</th>\n",
       "      <td>[user, great, stuff, fri, sxsw, marissa, mayer...</td>\n",
       "      <td>Google</td>\n",
       "      <td>Positive emotion</td>\n",
       "      <td>Google</td>\n",
       "      <td>user great stuff fri sxsw marissa mayer google...</td>\n",
       "      <td>3</td>\n",
       "    </tr>\n",
       "  </tbody>\n",
       "</table>\n",
       "</div>"
      ],
      "text/plain": [
       "                                          tweet_text           recipient  \\\n",
       "0  [user, 3g, iphone, 3, hr, tweeting, riseaustin...              iPhone   \n",
       "1  [user, know, user, awesome, ipadiphone, app, l...  iPad or iPhone App   \n",
       "2            [user, wait, ipad, 2, also, sale, sxsw]                iPad   \n",
       "3  [user, hope, year, festival, crashy, year, iph...  iPad or iPhone App   \n",
       "4  [user, great, stuff, fri, sxsw, marissa, mayer...              Google   \n",
       "\n",
       "            emotion   brand  \\\n",
       "0  Negative emotion   Apple   \n",
       "1  Positive emotion   Apple   \n",
       "2  Positive emotion   Apple   \n",
       "3  Negative emotion   Apple   \n",
       "4  Positive emotion  Google   \n",
       "\n",
       "                                   lemmatized_review  emotion_code  \n",
       "0  user 3g iphone 3 hr tweeting riseaustin dead n...             1  \n",
       "1  user know user awesome ipadiphone app likely a...             3  \n",
       "2                    user wait ipad 2 also sale sxsw             3  \n",
       "3  user hope year festival crashy year iphone app...             1  \n",
       "4  user great stuff fri sxsw marissa mayer google...             3  "
      ]
     },
     "execution_count": 71,
     "metadata": {},
     "output_type": "execute_result"
    }
   ],
   "source": [
    "# A  preview to ensure encoding is done \n",
    "data.head()"
   ]
  },
  {
   "cell_type": "code",
   "execution_count": 72,
   "metadata": {},
   "outputs": [
    {
     "data": {
      "text/html": [
       "<div>\n",
       "<style scoped>\n",
       "    .dataframe tbody tr th:only-of-type {\n",
       "        vertical-align: middle;\n",
       "    }\n",
       "\n",
       "    .dataframe tbody tr th {\n",
       "        vertical-align: top;\n",
       "    }\n",
       "\n",
       "    .dataframe thead th {\n",
       "        text-align: right;\n",
       "    }\n",
       "</style>\n",
       "<table border=\"1\" class=\"dataframe\">\n",
       "  <thead>\n",
       "    <tr style=\"text-align: right;\">\n",
       "      <th></th>\n",
       "      <th>emotion</th>\n",
       "      <th>emotion_code</th>\n",
       "    </tr>\n",
       "  </thead>\n",
       "  <tbody>\n",
       "    <tr>\n",
       "      <th>0</th>\n",
       "      <td>Negative emotion</td>\n",
       "      <td>1</td>\n",
       "    </tr>\n",
       "    <tr>\n",
       "      <th>1</th>\n",
       "      <td>Positive emotion</td>\n",
       "      <td>3</td>\n",
       "    </tr>\n",
       "    <tr>\n",
       "      <th>2</th>\n",
       "      <td>Positive emotion</td>\n",
       "      <td>3</td>\n",
       "    </tr>\n",
       "    <tr>\n",
       "      <th>3</th>\n",
       "      <td>Negative emotion</td>\n",
       "      <td>1</td>\n",
       "    </tr>\n",
       "    <tr>\n",
       "      <th>4</th>\n",
       "      <td>Positive emotion</td>\n",
       "      <td>3</td>\n",
       "    </tr>\n",
       "    <tr>\n",
       "      <th>5</th>\n",
       "      <td>No emotion toward brand or product</td>\n",
       "      <td>2</td>\n",
       "    </tr>\n",
       "    <tr>\n",
       "      <th>7</th>\n",
       "      <td>Positive emotion</td>\n",
       "      <td>3</td>\n",
       "    </tr>\n",
       "    <tr>\n",
       "      <th>8</th>\n",
       "      <td>Positive emotion</td>\n",
       "      <td>3</td>\n",
       "    </tr>\n",
       "    <tr>\n",
       "      <th>9</th>\n",
       "      <td>Positive emotion</td>\n",
       "      <td>3</td>\n",
       "    </tr>\n",
       "    <tr>\n",
       "      <th>10</th>\n",
       "      <td>Positive emotion</td>\n",
       "      <td>3</td>\n",
       "    </tr>\n",
       "    <tr>\n",
       "      <th>11</th>\n",
       "      <td>Positive emotion</td>\n",
       "      <td>3</td>\n",
       "    </tr>\n",
       "    <tr>\n",
       "      <th>12</th>\n",
       "      <td>Positive emotion</td>\n",
       "      <td>3</td>\n",
       "    </tr>\n",
       "    <tr>\n",
       "      <th>13</th>\n",
       "      <td>Positive emotion</td>\n",
       "      <td>3</td>\n",
       "    </tr>\n",
       "    <tr>\n",
       "      <th>14</th>\n",
       "      <td>Positive emotion</td>\n",
       "      <td>3</td>\n",
       "    </tr>\n",
       "    <tr>\n",
       "      <th>15</th>\n",
       "      <td>Positive emotion</td>\n",
       "      <td>3</td>\n",
       "    </tr>\n",
       "  </tbody>\n",
       "</table>\n",
       "</div>"
      ],
      "text/plain": [
       "                               emotion  emotion_code\n",
       "0                     Negative emotion             1\n",
       "1                     Positive emotion             3\n",
       "2                     Positive emotion             3\n",
       "3                     Negative emotion             1\n",
       "4                     Positive emotion             3\n",
       "5   No emotion toward brand or product             2\n",
       "7                     Positive emotion             3\n",
       "8                     Positive emotion             3\n",
       "9                     Positive emotion             3\n",
       "10                    Positive emotion             3\n",
       "11                    Positive emotion             3\n",
       "12                    Positive emotion             3\n",
       "13                    Positive emotion             3\n",
       "14                    Positive emotion             3\n",
       "15                    Positive emotion             3"
      ]
     },
     "execution_count": 72,
     "metadata": {},
     "output_type": "execute_result"
    }
   ],
   "source": [
    "# Displaying the encoding scheme\n",
    "data[['emotion', 'emotion_code']].head(15)"
   ]
  },
  {
   "attachments": {},
   "cell_type": "markdown",
   "metadata": {},
   "source": [
    "## Modelling\n",
    "### Baseline model"
   ]
  },
  {
   "attachments": {},
   "cell_type": "markdown",
   "metadata": {},
   "source": [
    "created a base model to identify if a tweet is 'Positive' or 'Negative'.\n",
    "* LogisticRegression will be used for the classification.\n",
    "* The normal preprocessing of vectorization and train test split will be implemented."
   ]
  },
  {
   "cell_type": "code",
   "execution_count": 73,
   "metadata": {},
   "outputs": [],
   "source": [
    "# created a copy of the original data so as to remove unwanted rows i.e. (not positive or negative)\n",
    "data_copy = data.copy()"
   ]
  },
  {
   "cell_type": "code",
   "execution_count": 74,
   "metadata": {},
   "outputs": [],
   "source": [
    "# Defined the values to drop\n",
    "values_to_drop = [0, 2]\n",
    "\n",
    "# Dropped rows that have the values in column 'B'\n",
    "data_copy = data_copy[~data_copy['emotion_code'].isin(values_to_drop)]"
   ]
  },
  {
   "cell_type": "code",
   "execution_count": 76,
   "metadata": {},
   "outputs": [
    {
     "data": {
      "text/plain": [
       "3    2970\n",
       "1     569\n",
       "Name: emotion_code, dtype: int64"
      ]
     },
     "execution_count": 76,
     "metadata": {},
     "output_type": "execute_result"
    }
   ],
   "source": [
    "# value counts of the emotion code\n",
    "data_copy['emotion_code'].value_counts()"
   ]
  },
  {
   "cell_type": "code",
   "execution_count": 77,
   "metadata": {},
   "outputs": [
    {
     "data": {
      "image/png": "[encoded data removed]",
      "text/plain": [
       "<Figure size 720x504 with 1 Axes>"
      ]
     },
     "metadata": {
      "needs_background": "light"
     },
     "output_type": "display_data"
    }
   ],
   "source": [
    "# Visualizing binary sentiment distribution emotion-wise\n",
    "emotion_group = data_copy.groupby('emotion')['emotion_code'].value_counts().reset_index(name='count')\n",
    "# Calculate the ascending order of states based on churn count\n",
    "ascending_order = emotion_group.groupby('emotion')['count'].sum().sort_values().index\n",
    "\n",
    "plt.figure(figsize=(10,7))\n",
    "sns.barplot(x='emotion', y='count', hue='emotion', data=emotion_group, order=ascending_order)\n",
    "plt.xlabel('emotion')\n",
    "plt.ylabel('Count')\n",
    "plt.title('Sentiment Count Distribution')\n",
    "plt.show()"
   ]
  },
  {
   "attachments": {},
   "cell_type": "markdown",
   "metadata": {},
   "source": [
    "From the graph above it is clear that most of the sentiments were positive in nature."
   ]
  },
  {
   "attachments": {},
   "cell_type": "markdown",
   "metadata": {},
   "source": [
    "### Vectorizing Data Copy\n",
    "#### CountVectorizer"
   ]
  },
  {
   "cell_type": "code",
   "execution_count": 78,
   "metadata": {},
   "outputs": [],
   "source": [
    "# create instance of vectorizer\n",
    "bow2 = CountVectorizer()\n",
    "data_copy['lemmatized_review'] = data_copy['tweet_text'].str.join(\" \")\n",
    "# our X\n",
    "x2 = bow2.fit_transform(data_copy['lemmatized_review'])"
   ]
  },
  {
   "cell_type": "code",
   "execution_count": 79,
   "metadata": {},
   "outputs": [
    {
     "data": {
      "text/html": [
       "<div>\n",
       "<style scoped>\n",
       "    .dataframe tbody tr th:only-of-type {\n",
       "        vertical-align: middle;\n",
       "    }\n",
       "\n",
       "    .dataframe tbody tr th {\n",
       "        vertical-align: top;\n",
       "    }\n",
       "\n",
       "    .dataframe thead th {\n",
       "        text-align: right;\n",
       "    }\n",
       "</style>\n",
       "<table border=\"1\" class=\"dataframe\">\n",
       "  <thead>\n",
       "    <tr style=\"text-align: right;\">\n",
       "      <th></th>\n",
       "      <th>tweet_text</th>\n",
       "      <th>recipient</th>\n",
       "      <th>emotion</th>\n",
       "      <th>brand</th>\n",
       "      <th>lemmatized_review</th>\n",
       "      <th>emotion_code</th>\n",
       "    </tr>\n",
       "  </thead>\n",
       "  <tbody>\n",
       "    <tr>\n",
       "      <th>0</th>\n",
       "      <td>[user, 3g, iphone, 3, hr, tweeting, riseaustin...</td>\n",
       "      <td>iPhone</td>\n",
       "      <td>Negative emotion</td>\n",
       "      <td>Apple</td>\n",
       "      <td>user 3g iphone 3 hr tweeting riseaustin dead n...</td>\n",
       "      <td>1</td>\n",
       "    </tr>\n",
       "    <tr>\n",
       "      <th>1</th>\n",
       "      <td>[user, know, user, awesome, ipadiphone, app, l...</td>\n",
       "      <td>iPad or iPhone App</td>\n",
       "      <td>Positive emotion</td>\n",
       "      <td>Apple</td>\n",
       "      <td>user know user awesome ipadiphone app likely a...</td>\n",
       "      <td>3</td>\n",
       "    </tr>\n",
       "    <tr>\n",
       "      <th>2</th>\n",
       "      <td>[user, wait, ipad, 2, also, sale, sxsw]</td>\n",
       "      <td>iPad</td>\n",
       "      <td>Positive emotion</td>\n",
       "      <td>Apple</td>\n",
       "      <td>user wait ipad 2 also sale sxsw</td>\n",
       "      <td>3</td>\n",
       "    </tr>\n",
       "    <tr>\n",
       "      <th>3</th>\n",
       "      <td>[user, hope, year, festival, crashy, year, iph...</td>\n",
       "      <td>iPad or iPhone App</td>\n",
       "      <td>Negative emotion</td>\n",
       "      <td>Apple</td>\n",
       "      <td>user hope year festival crashy year iphone app...</td>\n",
       "      <td>1</td>\n",
       "    </tr>\n",
       "    <tr>\n",
       "      <th>4</th>\n",
       "      <td>[user, great, stuff, fri, sxsw, marissa, mayer...</td>\n",
       "      <td>Google</td>\n",
       "      <td>Positive emotion</td>\n",
       "      <td>Google</td>\n",
       "      <td>user great stuff fri sxsw marissa mayer google...</td>\n",
       "      <td>3</td>\n",
       "    </tr>\n",
       "  </tbody>\n",
       "</table>\n",
       "</div>"
      ],
      "text/plain": [
       "                                          tweet_text           recipient  \\\n",
       "0  [user, 3g, iphone, 3, hr, tweeting, riseaustin...              iPhone   \n",
       "1  [user, know, user, awesome, ipadiphone, app, l...  iPad or iPhone App   \n",
       "2            [user, wait, ipad, 2, also, sale, sxsw]                iPad   \n",
       "3  [user, hope, year, festival, crashy, year, iph...  iPad or iPhone App   \n",
       "4  [user, great, stuff, fri, sxsw, marissa, mayer...              Google   \n",
       "\n",
       "            emotion   brand  \\\n",
       "0  Negative emotion   Apple   \n",
       "1  Positive emotion   Apple   \n",
       "2  Positive emotion   Apple   \n",
       "3  Negative emotion   Apple   \n",
       "4  Positive emotion  Google   \n",
       "\n",
       "                                   lemmatized_review  emotion_code  \n",
       "0  user 3g iphone 3 hr tweeting riseaustin dead n...             1  \n",
       "1  user know user awesome ipadiphone app likely a...             3  \n",
       "2                    user wait ipad 2 also sale sxsw             3  \n",
       "3  user hope year festival crashy year iphone app...             1  \n",
       "4  user great stuff fri sxsw marissa mayer google...             3  "
      ]
     },
     "execution_count": 79,
     "metadata": {},
     "output_type": "execute_result"
    }
   ],
   "source": [
    "# preview of the updated data\n",
    "data.head()"
   ]
  },
  {
   "attachments": {},
   "cell_type": "markdown",
   "metadata": {},
   "source": [
    "### Spliting the data into training and test sets"
   ]
  },
  {
   "cell_type": "code",
   "execution_count": 80,
   "metadata": {},
   "outputs": [],
   "source": [
    "#x = bow.fit_transform(data['lemmatized_review'])\n",
    "# our y\n",
    "y = data_copy['emotion_code']"
   ]
  },
  {
   "cell_type": "code",
   "execution_count": 82,
   "metadata": {},
   "outputs": [],
   "source": [
    "# train-test split\n",
    "X_train, X_test, y_train, y_test = train_test_split(x2, y, test_size=0.2, random_state=42)"
   ]
  },
  {
   "cell_type": "code",
   "execution_count": 84,
   "metadata": {},
   "outputs": [
    {
     "data": {
      "text/plain": [
       "((2831, 5871), (2831,))"
      ]
     },
     "execution_count": 84,
     "metadata": {},
     "output_type": "execute_result"
    }
   ],
   "source": [
    "# confirming  the shape\n",
    "\n",
    "X_train.shape, y_train.shape\n"
   ]
  },
  {
   "attachments": {},
   "cell_type": "markdown",
   "metadata": {},
   "source": [
    "## logistic Regression"
   ]
  },
  {
   "cell_type": "code",
   "execution_count": 85,
   "metadata": {},
   "outputs": [],
   "source": [
    "# instantiating model 1\n",
    "log_reg = LogisticRegression(random_state=42)"
   ]
  },
  {
   "cell_type": "code",
   "execution_count": 86,
   "metadata": {},
   "outputs": [
    {
     "data": {
      "text/plain": [
       "LogisticRegression(random_state=42)"
      ]
     },
     "execution_count": 86,
     "metadata": {},
     "output_type": "execute_result"
    }
   ],
   "source": [
    "# fitting the training sets\n",
    "\n",
    "log_reg.fit(X_train, y_train)"
   ]
  },
  {
   "cell_type": "code",
   "execution_count": 87,
   "metadata": {},
   "outputs": [],
   "source": [
    "# Getting the predictions\n",
    "y_pred = log_reg.predict(X_test)\n",
    "y_train_pred = log_reg.predict(X_train)"
   ]
  },
  {
   "attachments": {},
   "cell_type": "markdown",
   "metadata": {},
   "source": [
    "### Model Evaluation"
   ]
  },
  {
   "cell_type": "code",
   "execution_count": 88,
   "metadata": {},
   "outputs": [
    {
     "name": "stdout",
     "output_type": "stream",
     "text": [
      "train 0.9699752737548569\n",
      "test 0.903954802259887\n"
     ]
    }
   ],
   "source": [
    "# Compute the accuracy score of the model on the training data\n",
    "print('train',accuracy_score(y_train, y_train_pred))\n",
    "\n",
    "# Compute the accuracy score of the model on the test data\n",
    "print('test',accuracy_score(y_test, y_pred))"
   ]
  },
  {
   "cell_type": "code",
   "execution_count": 89,
   "metadata": {},
   "outputs": [
    {
     "name": "stdout",
     "output_type": "stream",
     "text": [
      "              precision    recall  f1-score   support\n",
      "\n",
      "           1       0.84      0.44      0.58       106\n",
      "           3       0.91      0.99      0.95       602\n",
      "\n",
      "    accuracy                           0.90       708\n",
      "   macro avg       0.87      0.71      0.76       708\n",
      "weighted avg       0.90      0.90      0.89       708\n",
      "\n"
     ]
    }
   ],
   "source": [
    "# Compute and print the classification report of the model on the test data\n",
    "# 'y_test' is the actual labels for the test data\n",
    "# 'y_pred' is the predicted labels by the model for the test data\n",
    "print(classification_report(y_test, y_pred))\n"
   ]
  },
  {
   "cell_type": "code",
   "execution_count": 90,
   "metadata": {},
   "outputs": [
    {
     "data": {
      "image/png": "[encoded data removed]",
      "text/plain": [
       "<Figure size 432x288 with 2 Axes>"
      ]
     },
     "metadata": {
      "needs_background": "light"
     },
     "output_type": "display_data"
    }
   ],
   "source": [
    "# Confusion Matrix \n",
    "confusion_matrix = confusion_matrix(y_test, y_pred)\n",
    "\n",
    "# Display Confusion Matrix \n",
    "cm_display = metrics.ConfusionMatrixDisplay(confusion_matrix = confusion_matrix, display_labels = [False, True])\n",
    "cm_display.plot()\n",
    "plt.show()"
   ]
  },
  {
   "attachments": {},
   "cell_type": "markdown",
   "metadata": {},
   "source": [
    "\n",
    " The baseline model  performed as follows;\n",
    "> * Training accuracy: 96%\n",
    "> * Testing accuracy: 90%\n",
    "\n",
    "* The accuracy means that the model can predict with an accuracy of 90% whether a tweet is positive or negative.\n",
    "* The current model is fit for prediction since it is generalizing well to new data even with high accuracy."
   ]
  },
  {
   "attachments": {},
   "cell_type": "markdown",
   "metadata": {},
   "source": [
    "### Multiclass Classifier\n",
    "* Here I worked with the original dataset to build a multiclass classifier\n",
    "  MultinomialNB and XGBoost model will be tested."
   ]
  },
  {
   "cell_type": "code",
   "execution_count": 91,
   "metadata": {},
   "outputs": [],
   "source": [
    "# target variable\n",
    "y = data['emotion_code']"
   ]
  },
  {
   "attachments": {},
   "cell_type": "markdown",
   "metadata": {},
   "source": [
    "#### Splitting the data "
   ]
  },
  {
   "cell_type": "code",
   "execution_count": 92,
   "metadata": {},
   "outputs": [],
   "source": [
    "# splitting the data\n",
    "X_train_multi, X_test_multi, y_train_multi, y_test_multi = train_test_split(x, y, test_size=0.2, random_state=42)"
   ]
  },
  {
   "cell_type": "code",
   "execution_count": 93,
   "metadata": {},
   "outputs": [
    {
     "data": {
      "text/plain": [
       "MultinomialNB()"
      ]
     },
     "execution_count": 93,
     "metadata": {},
     "output_type": "execute_result"
    }
   ],
   "source": [
    "# InstatiatE the multi class model\n",
    "multi_class = MultinomialNB()\n",
    "\n",
    "# fitting the model to the training data\n",
    "multi_class.fit(X_train_multi, y_train_multi)"
   ]
  },
  {
   "cell_type": "code",
   "execution_count": 94,
   "metadata": {},
   "outputs": [],
   "source": [
    "# Use the trained multi-class model to predict the labels for the test data\n",
    "y_pred_multi = multi_class.predict(X_test_multi)\n",
    "\n",
    "# Use the trained multi-class model to predict the labels for the training data\n",
    "y_train_pred_multi = multi_class.predict(X_train_multi)"
   ]
  },
  {
   "cell_type": "code",
   "execution_count": 95,
   "metadata": {},
   "outputs": [
    {
     "name": "stdout",
     "output_type": "stream",
     "text": [
      "train 0.8036108048511577\n",
      "test 0.6543550165380375\n"
     ]
    }
   ],
   "source": [
    "# Compute the accuracy score of the model on the training and test data\n",
    "\n",
    "print('train',accuracy_score(y_train_multi, y_train_pred_multi))\n",
    "print('test',accuracy_score(y_test_multi, y_pred_multi))"
   ]
  },
  {
   "attachments": {},
   "cell_type": "markdown",
   "metadata": {},
   "source": [
    "The model results are as follows\n",
    "* Accuracy on the training set: 80%\n",
    "* Accuracy on the testing set: 65%\n",
    "\n",
    "The current model is not fit for prediction since it is not generalizing well to new data even with high accuracy. The model is overfitting.\n"
   ]
  },
  {
   "attachments": {},
   "cell_type": "markdown",
   "metadata": {},
   "source": [
    "## Linear SVC Model"
   ]
  },
  {
   "cell_type": "code",
   "execution_count": 96,
   "metadata": {},
   "outputs": [
    {
     "name": "stdout",
     "output_type": "stream",
     "text": [
      "Support Vector Machine:\n",
      "              precision    recall  f1-score   support\n",
      "\n",
      "           1       0.73      0.60      0.66       106\n",
      "           3       0.93      0.96      0.95       602\n",
      "\n",
      "    accuracy                           0.91       708\n",
      "   macro avg       0.83      0.78      0.80       708\n",
      "weighted avg       0.90      0.91      0.90       708\n",
      "\n"
     ]
    }
   ],
   "source": [
    "from sklearn.svm import LinearSVC\n",
    "# Support Vector Machine\n",
    "svm = LinearSVC()\n",
    "svm.fit(X_train, y_train)\n",
    "y_pred_svm = svm.predict(X_test)\n",
    "print(\"Support Vector Machine:\")\n",
    "print(classification_report(y_test, y_pred_svm))\n"
   ]
  },
  {
   "attachments": {},
   "cell_type": "markdown",
   "metadata": {},
   "source": [
    "### Model evaluation"
   ]
  },
  {
   "cell_type": "code",
   "execution_count": 109,
   "metadata": {},
   "outputs": [
    {
     "name": "stdout",
     "output_type": "stream",
     "text": [
      "Support Vector Machine (Training Data):\n",
      "              precision    recall  f1-score   support\n",
      "\n",
      "           1       0.99      0.99      0.99       463\n",
      "           3       1.00      1.00      1.00      2368\n",
      "\n",
      "    accuracy                           1.00      2831\n",
      "   macro avg       1.00      1.00      1.00      2831\n",
      "weighted avg       1.00      1.00      1.00      2831\n",
      "\n"
     ]
    }
   ],
   "source": [
    "# Predict on the training data\n",
    "y_pred_svm_train = svm.predict(X_train)\n",
    "\n",
    "# Evaluate and print the classification report\n",
    "print(\"Support Vector Machine (Training Data):\")\n",
    "print(classification_report(y_train, y_pred_svm_train))"
   ]
  },
  {
   "cell_type": "code",
   "execution_count": 110,
   "metadata": {},
   "outputs": [
    {
     "name": "stdout",
     "output_type": "stream",
     "text": [
      "Accuracy: 0.9067796610169492\n",
      "Precision: 0.8297653958944282\n",
      "Recall: 0.7819532376355545\n",
      "F1 Score: 0.8028919972328614\n"
     ]
    }
   ],
   "source": [
    "from sklearn.metrics import accuracy_score, precision_score, recall_score, f1_score\n",
    "\n",
    "# Predict the labels for the test data\n",
    "y_pred_svm = svm.predict(X_test)\n",
    "\n",
    "# Calculate and print the accuracy of the model on the test data\n",
    "accuracy = accuracy_score(y_test, y_pred_svm)\n",
    "print(f\"Accuracy: {accuracy}\")\n",
    "\n",
    "# Calculate and print the precision of the model on the test data\n",
    "# Set the `average` parameter to 'macro' for macro-average precision score\n",
    "precision = precision_score(y_test, y_pred_svm, average='macro')\n",
    "print(f\"Precision: {precision}\")\n",
    "\n",
    "# Calculate and print the recall of the model on the test data\n",
    "# Set the `average` parameter to 'macro' for macro-average recall score\n",
    "recall = recall_score(y_test, y_pred_svm, average='macro')\n",
    "print(f\"Recall: {recall}\")\n",
    "\n",
    "# Calculate and print the F1 score of the model on the test data\n",
    "# Set the `average` parameter to 'macro' for macro-average F1 score\n",
    "f1 = f1_score(y_test, y_pred_svm, average='macro')\n",
    "print(f\"F1 Score: {f1}\")\n"
   ]
  },
  {
   "attachments": {},
   "cell_type": "markdown",
   "metadata": {},
   "source": [
    "Based on the model results for both training and  test data it performs better on the training data this implies that the model is overfitting and it is capturing noise and random fluctuations in the training set rather than the underlying patterns that generalize to new, unseen data.So i went further and tried to address this problem of overfitting by using regularization technique"
   ]
  },
  {
   "cell_type": "code",
   "execution_count": 119,
   "metadata": {},
   "outputs": [
    {
     "name": "stdout",
     "output_type": "stream",
     "text": [
      "Support Vector Machine Regularized:\n",
      "              precision    recall  f1-score   support\n",
      "\n",
      "           1       0.77      0.60      0.68       106\n",
      "           3       0.93      0.97      0.95       602\n",
      "\n",
      "    accuracy                           0.91       708\n",
      "   macro avg       0.85      0.79      0.81       708\n",
      "weighted avg       0.91      0.91      0.91       708\n",
      "\n"
     ]
    }
   ],
   "source": [
    "# Defined the regularization parameter c\n",
    "c = 0.5\n",
    "\n",
    "\n",
    "# Support Vector Machine regularized\n",
    "svm = LinearSVC(C=c)\n",
    "svm.fit(X_train, y_train)\n",
    "y_pred_svm = svm.predict(X_test)\n",
    "print(\"Support Vector Machine Regularized:\")\n",
    "print(classification_report(y_test, y_pred_svm))\n"
   ]
  },
  {
   "attachments": {},
   "cell_type": "markdown",
   "metadata": {},
   "source": [
    "Regularized Linear SVM model exhibits improved generalization on the test data compared to the initial model. It achieves a higher F1-Score for both low and high-risk classes while maintaining a high level of precision and recall. This suggests that the regularization has helped mitigate overfitting, and the model is performing well on new, unseen data."
   ]
  },
  {
   "attachments": {},
   "cell_type": "markdown",
   "metadata": {},
   "source": [
    "## XG Boost Model"
   ]
  },
  {
   "cell_type": "code",
   "execution_count": 98,
   "metadata": {},
   "outputs": [
    {
     "data": {
      "text/plain": [
       "XGBClassifier(base_score=0.5, booster='gbtree', colsample_bylevel=1,\n",
       "              colsample_bynode=1, colsample_bytree=1, gamma=0, gpu_id=-1,\n",
       "              importance_type='gain', interaction_constraints='',\n",
       "              learning_rate=0.300000012, max_delta_step=0, max_depth=6,\n",
       "              min_child_weight=1, missing=nan, monotone_constraints='()',\n",
       "              n_estimators=100, n_jobs=0, num_parallel_tree=1,\n",
       "              objective='multi:softprob', random_state=0, reg_alpha=0,\n",
       "              reg_lambda=1, scale_pos_weight=None, subsample=1,\n",
       "              tree_method='exact', validate_parameters=1, verbosity=None)"
      ]
     },
     "execution_count": 98,
     "metadata": {},
     "output_type": "execute_result"
    }
   ],
   "source": [
    "# Create an XGBoost classifier instance\n",
    "xgb_classifier = xgb.XGBClassifier()\n",
    "\n",
    "# Fit the model on the training data\n",
    "xgb_classifier.fit(X_train_multi, y_train_multi)"
   ]
  },
  {
   "attachments": {},
   "cell_type": "markdown",
   "metadata": {},
   "source": [
    "### Model Evaluation"
   ]
  },
  {
   "cell_type": "code",
   "execution_count": 99,
   "metadata": {},
   "outputs": [],
   "source": [
    "# Make predictions on the testing data\n",
    "#predictions = xgb_classifier.predict(test_x)\n",
    "y_pred_xgb =  xgb_classifier.predict(X_test_multi)\n",
    "y_train_pred_xgb =  xgb_classifier.predict(X_train_multi)"
   ]
  },
  {
   "cell_type": "code",
   "execution_count": 100,
   "metadata": {},
   "outputs": [
    {
     "name": "stdout",
     "output_type": "stream",
     "text": [
      "train 0.7848676957001103\n",
      "test 0.685226019845645\n"
     ]
    }
   ],
   "source": [
    "# checking the accuracy\n",
    "print('train',accuracy_score(y_train_multi, y_train_pred_xgb))\n",
    "print('test',accuracy_score(y_test_multi, y_pred_xgb))"
   ]
  },
  {
   "attachments": {},
   "cell_type": "markdown",
   "metadata": {},
   "source": [
    "The model performed like this\n",
    "* Accuracy on the training set: 78%\n",
    "* Accuracy on the testing set: 68%\n",
    "* The accuracy means that the model can predict with an accuracy of 78% whether a tweet falls within the specified labels.\n",
    "The model is not fit for prediction since it is overfitting.\n",
    "\n"
   ]
  },
  {
   "attachments": {},
   "cell_type": "markdown",
   "metadata": {},
   "source": [
    "## Resampling the Xgboost"
   ]
  },
  {
   "cell_type": "code",
   "execution_count": 102,
   "metadata": {},
   "outputs": [
    {
     "data": {
      "text/plain": [
       "XGBClassifier(base_score=0.5, booster='gbtree', colsample_bylevel=1,\n",
       "              colsample_bynode=1, colsample_bytree=1, gamma=0, gpu_id=-1,\n",
       "              importance_type='gain', interaction_constraints='',\n",
       "              learning_rate=0.300000012, max_delta_step=0, max_depth=6,\n",
       "              min_child_weight=1, missing=nan, monotone_constraints='()',\n",
       "              n_estimators=100, n_jobs=0, num_parallel_tree=1,\n",
       "              objective='multi:softprob', random_state=0, reg_alpha=0,\n",
       "              reg_lambda=1, scale_pos_weight=None, subsample=1,\n",
       "              tree_method='exact', validate_parameters=1, verbosity=None)"
      ]
     },
     "execution_count": 102,
     "metadata": {},
     "output_type": "execute_result"
    }
   ],
   "source": [
    "from imblearn.over_sampling import SMOTE\n",
    "\n",
    "# Create a SMOTE instance\n",
    "smote = SMOTE()\n",
    "\n",
    "# Resample the data\n",
    "X_resampled, y_resampled = smote.fit_resample(X_train_multi, y_train_multi)\n",
    "\n",
    "# Now you can use the resampled data to train your model\n",
    "xgb_classifier.fit(X_resampled, y_resampled)\n"
   ]
  },
  {
   "cell_type": "code",
   "execution_count": 103,
   "metadata": {},
   "outputs": [
    {
     "name": "stdout",
     "output_type": "stream",
     "text": [
      "Accuracy: 0.6786108048511577\n"
     ]
    }
   ],
   "source": [
    "# Fit the model on the resampled training data\n",
    "xgb_classifier.fit(X_resampled,y_resampled)\n",
    "\n",
    "# Make predictions on the testing data\n",
    "predictions = xgb_classifier.predict(X_test_multi)\n",
    "\n",
    "# Evaluate the model\n",
    "accuracy = accuracy_score(y_test_multi, predictions)\n",
    "print(\"Accuracy:\", accuracy)"
   ]
  },
  {
   "attachments": {},
   "cell_type": "markdown",
   "metadata": {},
   "source": [
    "Despite implementing resampling techniques to address class imbalance, the model's accuracy has not improved significantly. This suggests that other factors within the dataset may be limiting predictive performance.\n",
    "\n",
    "* The binary logistic regression model perform better.\n",
    "* Linear SVm is te model that performs best.\n",
    "* For Multiclass XGBoost was better. "
   ]
  },
  {
   "attachments": {},
   "cell_type": "markdown",
   "metadata": {},
   "source": [
    "# Limitation and Challenges \n",
    "- Class Imbalance Issue: The dataset suffers from class imbalance, where one sentiment class is dominant while others are underrepresented. This can result in biased models that are more accurate for the majority class but perform poorly on the minority classes. Addressing this issue is important to ensure fair and balanced sentiment analysis.\n",
    "\n",
    "- Limited Dataset Size: The dataset used for sentiment analysis is relatively small, which can limit the model's ability to capture the full complexity of sentiments expressed in text. A larger and more diverse dataset would provide a broader representation of sentiments and improve the model's performance and generalization.\n",
    "\n",
    "- Language Ambiguity and Sarcasm Detection: Language can be inherently ambiguous, and detecting sarcasm in text adds an extra layer of complexity. Sarcasm detection is challenging due to the subtleties and nuances involved. Developing robust strategies to handle language ambiguity and detect sarcasm is crucial for accurate sentiment analysis"
   ]
  },
  {
   "attachments": {},
   "cell_type": "markdown",
   "metadata": {},
   "source": [
    "# 7.Findings \n",
    "1. Most tweets were directed to None brand category. This may indicate that customers were not engaging with the brand.\n",
    "2. Positive sentiments had the highest count compared to Negative sentiments, indicating that most people in general liked respective brands(Google and Apple)\n",
    "3. Most of the positive tweets were directed to Apple brands \n",
    "4. In the field of sentiment analysis, one of the significant challenges is dealing with language ambiguity and sarcasm    detection. Natural language is complex and often subjective, making it difficult to accurately interpret sentiments from text. \n",
    "5. On average most of the tweets were 10-15 words long - more words increase ambiguity.\n",
    "6. NLP is a difficult task to model accurately."
   ]
  },
  {
   "attachments": {},
   "cell_type": "markdown",
   "metadata": {},
   "source": [
    "# 8.Recommendations\n",
    "From the analysis I recommend that there be more customer engagement.\n",
    "\n",
    "Probably check on this areas;\n",
    "\n",
    "   * Churn ratio - rate at which customers discontinue their relationship with a product company within a given time period\n",
    "   * Social media influencers through brand or product endorsement\n",
    "   * Customer feedback - The brands can introduce a rating system to accurately capture the sentiments of their customers "
   ]
  },
  {
   "attachments": {},
   "cell_type": "markdown",
   "metadata": {},
   "source": [
    "# 9. Next steps\n",
    "- In our future work, we plan to explore advanced techniques such as incorporating attention mechanisms, using ensemble methods to further enhance the model's performance by incorporating domain-specific and fine-tuning the model on industry-specific datasets could improve its accuracy and adaptability.\n",
    "\n",
    "- By considering these evaluation metrics, addressing limitations, and planning for future improvements, we aim to develop a robust NLP sentiment analysis solution that effectively captures sentiment\n"
   ]
  },
  {
   "cell_type": "code",
   "execution_count": 104,
   "metadata": {},
   "outputs": [
    {
     "data": {
      "text/plain": [
       "['xgb.pkl']"
      ]
     },
     "execution_count": 104,
     "metadata": {},
     "output_type": "execute_result"
    }
   ],
   "source": [
    "import joblib\n",
    "\n",
    "# Save the trained model as a pickle file\n",
    "joblib.dump(log_reg, 'logistic_regression_model.pkl')\n",
    "joblib.dump(svm, 'svm_model.pkl')\n",
    "joblib.dump(xgb_classifier, 'xgb.pkl')\n"
   ]
  }
 ],
 "metadata": {
  "kernelspec": {
   "display_name": "learn-env",
   "language": "python",
   "name": "python3"
  },
  "language_info": {
   "codemirror_mode": {
    "name": "ipython",
    "version": 3
   },
   "file_extension": ".py",
   "mimetype": "text/x-python",
   "name": "python",
   "nbconvert_exporter": "python",
   "pygments_lexer": "ipython3",
   "version": "3.8.5"
  },
  "orig_nbformat": 4
 },
 "nbformat": 4,
 "nbformat_minor": 2
}
